{
  "nbformat": 4,
  "nbformat_minor": 0,
  "metadata": {
    "colab": {
      "name": " CS466-project.ipynb",
      "provenance": [],
      "collapsed_sections": []
    },
    "kernelspec": {
      "name": "python3",
      "display_name": "Python 3"
    }
  },
  "cells": [
    {
      "cell_type": "markdown",
      "metadata": {
        "id": "qXesYfGEhPIu"
      },
      "source": [
        "# Quadratic Space Global Alignment"
      ]
    },
    {
      "cell_type": "code",
      "metadata": {
        "id": "3qHdV4Nf1Iml"
      },
      "source": [
        "def originalres(s1,s2):\n",
        "    len1 = len(s1)\n",
        "    len2 = len(s2)\n",
        "    dp = [[0 for j in range(len1 + 1)] for i in range(len2 + 1)]\n",
        "    for i in range(len2 + 1):\n",
        "        for j in range(len1 + 1):\n",
        "            if i==0 and j==0:\n",
        "                dp[i][j]=0\n",
        "            elif i>0 and j==0:\n",
        "                dp[i][j]=dp[i-1][j]-1\n",
        "            elif i==0 and j>0:\n",
        "                dp[i][j]=dp[i][j-1]-1\n",
        "            else:\n",
        "                score = 1 if s1[j-1]==s2[i-1] else -1\n",
        "                dp[i][j] = max(dp[i-1][j]-1,max(dp[i][j-1]-1,dp[i-1][j-1]+score))\n",
        "    return dp[len2]"
      ],
      "execution_count": 1,
      "outputs": []
    },
    {
      "cell_type": "code",
      "metadata": {
        "id": "sWzwxwrIqu0b"
      },
      "source": [
        "def originalscore(s1,s2):\n",
        "    len1 = len(s1)\n",
        "    len2 = len(s2)\n",
        "    dp = [[0 for j in range(len1 + 1)] for i in range(len2 + 1)]\n",
        "    for i in range(len2 + 1):\n",
        "        for j in range(len1 + 1):\n",
        "            if i==0 and j==0:\n",
        "                dp[i][j]=0\n",
        "            elif i>0 and j==0:\n",
        "                dp[i][j]=dp[i-1][j]-1\n",
        "            elif i==0 and j>0:\n",
        "                dp[i][j]=dp[i][j-1]-1\n",
        "            else:\n",
        "                score = 0 if s1[j-1]==s2[i-1] else -1\n",
        "                dp[i][j] = max(dp[i-1][j]-1,max(dp[i][j-1]-1,dp[i-1][j-1]+score))\n",
        "    i = len2\n",
        "    j = len1\n",
        "    res = []\n",
        "    res.append((i,j))\n",
        "    while i>0 or j>0:\n",
        "        if i>0 and dp[i][j] == dp[i-1][j]-1:\n",
        "            i-=1\n",
        "        elif j>0 and dp[i][j]==dp[i][j-1]-1:\n",
        "            j-=1\n",
        "        else:\n",
        "            i -= 1\n",
        "            j -=1\n",
        "        res.append((i,j))\n",
        "    res.sort(key=lambda x: (x[0],x[1]))\n",
        "    return res"
      ],
      "execution_count": 2,
      "outputs": []
    },
    {
      "cell_type": "code",
      "metadata": {
        "colab": {
          "base_uri": "https://localhost:8080/"
        },
        "id": "UfOmb_SM1YTn",
        "outputId": "823082ea-17b8-48e8-f3cb-73acfce6cf8e"
      },
      "source": [
        "sequence_1 = \"ATGTTAT\"\n",
        "sequence_2 = \"ATCGTAC\"\n",
        "\n",
        "print(\"alignment:\", originalscore(sequence_1, sequence_2))\n",
        "print(\"score:\", originalres(sequence_1, sequence_2)[-1])"
      ],
      "execution_count": 3,
      "outputs": [
        {
          "output_type": "stream",
          "text": [
            "alignment: [(0, 0), (1, 1), (2, 2), (3, 2), (4, 3), (5, 4), (5, 5), (6, 6), (7, 7)]\n",
            "score: 2\n"
          ],
          "name": "stdout"
        }
      ]
    },
    {
      "cell_type": "markdown",
      "metadata": {
        "id": "X-miuKtGhZKL"
      },
      "source": [
        "# Linear Space Algorithm"
      ]
    },
    {
      "cell_type": "code",
      "metadata": {
        "colab": {
          "base_uri": "https://localhost:8080/"
        },
        "id": "Y3asl7g0o7dB",
        "outputId": "22eb13e2-ac32-4fff-a8f8-6b5fc7ec1985"
      },
      "source": [
        "def linearspacescore(s1, s2):\n",
        "    len1 = len(s1)\n",
        "    len2 = len(s2)\n",
        "    dp = [[0 for j in range(len1 + 1)] for i in range(2)]\n",
        "    curridx = 0\n",
        "    for i in range(len2 + 1):\n",
        "        for j in range(len1 + 1):\n",
        "            if i==0 and j==0:\n",
        "                dp[curridx][j]=0\n",
        "            elif i>0 and j==0:\n",
        "                dp[curridx][j]=dp[1-curridx][j]-1\n",
        "            elif i==0 and j>0:\n",
        "                dp[curridx][j]=dp[curridx][j-1]-1\n",
        "            else:\n",
        "                score = 1 if s1[j-1] == s2[i-1] else -1\n",
        "                dp[curridx][j] = max(dp[1-curridx][j]-1,max(dp[curridx][j-1]-1,dp[1-curridx][j-1]+score))\n",
        "        curridx = 1-curridx\n",
        "    return dp[1-curridx]\n",
        "\n",
        "print('score:', linearspacescore(sequence_1, sequence_2)[-1])"
      ],
      "execution_count": 4,
      "outputs": [
        {
          "output_type": "stream",
          "text": [
            "score: 2\n"
          ],
          "name": "stdout"
        }
      ]
    },
    {
      "cell_type": "code",
      "metadata": {
        "id": "N-g5F1rEqq38"
      },
      "source": [
        "def hirschbergrecur(s1,s2,i,j,ip,jp,res):\n",
        "    # i,j,ip,jp are all inclusive i.e. s1[i.....ip) and s2[j.....jp) and 1-indexed\n",
        "    if jp-j==1:\n",
        "        res.append((i, j))\n",
        "        res.append((ip, jp))\n",
        "        return\n",
        "    if jp - j < 1:\n",
        "      return\n",
        "    mid = int((j+jp)/2)\n",
        "    prefix = linearspacescore(s1[i:ip:],s2[j:mid:])\n",
        "    suffix = linearspacescore(s1[i:ip:][::-1],s2[mid:jp:][::-1])\n",
        "    assert prefix == originalres(s1[i:ip:],s2[j:mid:])\n",
        "    assert suffix == originalres(s1[i:ip:][::-1],s2[mid:jp:][::-1])\n",
        "    assert len(prefix) == len(suffix)\n",
        "    maxidx = -1\n",
        "    maxweight = -1\n",
        "    for idx in range(len(prefix)):\n",
        "        weight = prefix[idx] + suffix[-idx-1]\n",
        "        if maxidx == -1 or maxweight <= weight:\n",
        "            maxidx = idx\n",
        "            maxweight = weight\n",
        "    res.append((maxidx+i, mid))\n",
        "    hirschbergrecur(s1,s2,i,j,maxidx+i,mid,res)\n",
        "    hirschbergrecur(s1,s2,maxidx+i,mid,ip,jp,res)\n"
      ],
      "execution_count": 5,
      "outputs": []
    },
    {
      "cell_type": "code",
      "metadata": {
        "colab": {
          "base_uri": "https://localhost:8080/"
        },
        "id": "buB0iKgtqtYo",
        "outputId": "dd56c9ca-86c8-4b4c-a1b5-79d0e05d3bf9"
      },
      "source": [
        "def hirschberg(s1,s2):\n",
        "    res = []\n",
        "    len1 = len(s1)\n",
        "    len2 = len(s2)\n",
        "    hirschbergrecur(s1,s2,0,0,len1,len2,res)\n",
        "    res = list(set(res))\n",
        "    res.sort(key=lambda x: (x[0],x[1]))\n",
        "    return res\n",
        "\n",
        "print(hirschberg('CT', 'GCAT'))"
      ],
      "execution_count": 6,
      "outputs": [
        {
          "output_type": "stream",
          "text": [
            "[(0, 0), (0, 1), (1, 2), (1, 3), (2, 4)]\n"
          ],
          "name": "stdout"
        }
      ]
    },
    {
      "cell_type": "code",
      "metadata": {
        "colab": {
          "base_uri": "https://localhost:8080/"
        },
        "id": "UfStF-mJqvPs",
        "outputId": "4fa561df-d4a8-4c99-d54d-7584f7be43fc"
      },
      "source": [
        "print(hirschberg(sequence_1, sequence_2))"
      ],
      "execution_count": 7,
      "outputs": [
        {
          "output_type": "stream",
          "text": [
            "[(0, 0), (1, 1), (2, 2), (2, 3), (4, 4), (5, 5), (6, 6), (7, 7)]\n"
          ],
          "name": "stdout"
        }
      ]
    },
    {
      "cell_type": "markdown",
      "metadata": {
        "id": "U_vFc9-wkTtJ"
      },
      "source": [
        "# Reconstruct the path"
      ]
    },
    {
      "cell_type": "code",
      "metadata": {
        "id": "Z58t-UAPlC-U",
        "colab": {
          "base_uri": "https://localhost:8080/"
        },
        "outputId": "2661b34f-c324-46e9-b751-38d0e12c8365"
      },
      "source": [
        "def reconstruct_path(s1, s2, cells):\n",
        "  len1 = len(s1)\n",
        "  len2 = len(s2)\n",
        "  dp = [[0 for j in range(len1 + 1)] for i in range(2)]\n",
        "  curridx = 0\n",
        "  for i in range(len2 + 1):\n",
        "      for j in range(len1 + 1):\n",
        "          if i==0 and j==0:\n",
        "              dp[curridx][j]=0\n",
        "          elif i>0 and j==0:\n",
        "              dp[curridx][j]=dp[1-curridx][j]-1\n",
        "          elif i==0 and j>0:\n",
        "              dp[curridx][j]=dp[curridx][j-1]-1\n",
        "          else:\n",
        "              score = 1 if s1[j-1] == s2[i-1] else -1\n",
        "              dp[curridx][j] = max(dp[1-curridx][j]-1,max(dp[curridx][j-1]-1,dp[1-curridx][j-1]+score))\n",
        "      curridx = 1-curridx\n",
        "      \n",
        "      left = curridx\n",
        "      right = 1 - curridx\n",
        "      \n",
        "      # fill in missing cells\n",
        "      if i > 0 and cells[i][0] - cells[i - 1][0] > 1:\n",
        "        start_cell = cells[i - 1]\n",
        "        start_row, start_col = start_cell\n",
        "\n",
        "        end_cell = cells[i]\n",
        "        end_row, end_col = end_cell\n",
        "        \n",
        "        stack = []\n",
        "        stack.append(start_cell)\n",
        "        bt = {}\n",
        "        \n",
        "        # shortest path from start cell to end cell given constraint\n",
        "        while True:\n",
        "          current_cell = stack.pop()\n",
        "          cell_row, cell_col = current_cell\n",
        "\n",
        "          if current_cell == end_cell:\n",
        "            break\n",
        "\n",
        "          # go right\n",
        "          if cell_col < end_col and dp[left][cell_row] - 1 == dp[right][cell_row]:\n",
        "            next_cell = (cell_row, cell_col + 1)\n",
        "            stack.append(next_cell)\n",
        "            bt[next_cell] = current_cell\n",
        "            \n",
        "          # go down\n",
        "          column = right if cell_col == end_col else left\n",
        "          if cell_row < end_row and dp[column][cell_row] - 1 == dp[column][cell_row + 1]:\n",
        "            next_cell = (cell_row + 1, cell_col)\n",
        "            stack.append(next_cell)\n",
        "            bt[next_cell] = current_cell\n",
        "            \n",
        "          # go diagonal - match\n",
        "          if cell_row < end_row and cell_col < end_col and s1[cell_row] == s2[cell_col] and dp[left][cell_row] + 1 == dp[right][cell_row + 1]:\n",
        "            new_cell = (cell_row + 1, cell_col + 1)\n",
        "            stack.append(new_cell)\n",
        "            bt[new_cell] = current_cell\n",
        "            \n",
        "          # go diagonal - mismatch\n",
        "          if cell_row < end_row and cell_col < end_col and s1[cell_row] != s2[cell_col] and dp[left][cell_row] - 1 == dp[right][cell_row + 1]:\n",
        "            new_cell = (cell_row + 1, cell_col + 1)\n",
        "            stack.append(new_cell)\n",
        "            bt[new_cell] = current_cell\n",
        "            \n",
        "        # backtrace\n",
        "        current_cell = bt[end_cell]\n",
        "        while current_cell != start_cell:\n",
        "          cells.append(current_cell)\n",
        "          current_cell = bt[current_cell]\n",
        "\n",
        "  return sorted(cells)\n",
        "\n",
        "reconstruct_path(sequence_1, sequence_2, hirschberg(sequence_1, sequence_2))"
      ],
      "execution_count": 8,
      "outputs": [
        {
          "output_type": "execute_result",
          "data": {
            "text/plain": [
              "[(0, 0), (1, 1), (2, 2), (2, 3), (3, 4), (4, 4), (5, 5), (6, 6), (7, 7)]"
            ]
          },
          "metadata": {
            "tags": []
          },
          "execution_count": 8
        }
      ]
    },
    {
      "cell_type": "markdown",
      "metadata": {
        "id": "eH1zuWkXj9-y"
      },
      "source": [
        "# Simple Visualization"
      ]
    },
    {
      "cell_type": "code",
      "metadata": {
        "id": "yW7dZ_Z8NNf2"
      },
      "source": [
        "def originalres_whole_table(s1,s2): # temp function just for displaying\n",
        "    len1 = len(s1)\n",
        "    len2 = len(s2)\n",
        "    dp = [[0 for j in range(len1 + 1)] for i in range(len2 + 1)]\n",
        "    for i in range(len2 + 1):\n",
        "        for j in range(len1 + 1):\n",
        "            if i==0 and j==0:\n",
        "                dp[i][j]=0\n",
        "            elif i>0 and j==0:\n",
        "                dp[i][j]=dp[i-1][j]-1\n",
        "            elif i==0 and j>0:\n",
        "                dp[i][j]=dp[i][j-1]-1\n",
        "            else:\n",
        "                score = 1 if s1[j-1]==s2[i-1] else -1\n",
        "                dp[i][j] = max(dp[i-1][j]-1,max(dp[i][j-1]-1,dp[i-1][j-1]+score))\n",
        "    return dp"
      ],
      "execution_count": 9,
      "outputs": []
    },
    {
      "cell_type": "code",
      "metadata": {
        "id": "6H7CtCSy3pTk"
      },
      "source": [
        "from IPython.display import HTML\n",
        "\n",
        "def get_html_string(s1, s2, cells=None, title=\"\"):\n",
        "  if cells is None:\n",
        "    result = reconstruct_path(s1, s2, hirschberg(s1, s2))\n",
        "  else:\n",
        "    result = cells\n",
        "  dp = originalres_whole_table(s2, s1)\n",
        "  s1 = \"-\" + s1\n",
        "  s2 = \"-\" + s2\n",
        "  \n",
        "  table_str = \"<h3>{}</h3>\".format(title)\n",
        "  for row in range(len(s1) + 1):\n",
        "    if row == 0:\n",
        "      table_str += \"\"\"\n",
        "        <tr>\n",
        "        <td><td>\n",
        "        {}\n",
        "        </tr>\n",
        "      \"\"\".format(\n",
        "          \"\\n\".join([\"<td style='width: 50px; height: 50px; text-align: center'>{}<td>\".format(c) for c in s2])\n",
        "      )\n",
        "    else:\n",
        "      table_str += \"\"\"\n",
        "        <tr>\n",
        "        <td style='width: 50px; height: 50px; text-align: center'>{1}<td>\n",
        "        {0}\n",
        "        </tr>\n",
        "      \"\"\".format(\n",
        "          \"\\n\".join([\"<td style='width: 50px; height: 50px; text-align: center{highlight}'>{}<td>\".format(dp[row - 1][col], \n",
        "                                    highlight=\"; background-color: yellow\" if (row - 1, col) in result else \"\") for col, c in enumerate(s2)]), \n",
        "          s1[row - 1]\n",
        "        )\n",
        "\n",
        "\n",
        "  html_str = \"\"\"\n",
        "  <table style=\"font-size: 15px\">\n",
        "  {}\n",
        "  </table>\n",
        "  \"\"\".format(table_str)\n",
        "  \n",
        "  # print(result)\n",
        "  return html_str\n"
      ],
      "execution_count": 10,
      "outputs": []
    },
    {
      "cell_type": "code",
      "metadata": {
        "id": "2OrRN8aRmu83",
        "colab": {
          "base_uri": "https://localhost:8080/",
          "height": 251
        },
        "outputId": "398dff62-fa0e-4ea4-dfe3-b702a55896dc"
      },
      "source": [
        "HTML(get_html_string('CT', 'GCAT'))"
      ],
      "execution_count": 11,
      "outputs": [
        {
          "output_type": "execute_result",
          "data": {
            "text/html": [
              "\n",
              "  <table style=\"font-size: 15px\">\n",
              "  <h3></h3>\n",
              "        <tr>\n",
              "        <td><td>\n",
              "        <td style='width: 50px; height: 50px; text-align: center'>-<td>\n",
              "<td style='width: 50px; height: 50px; text-align: center'>G<td>\n",
              "<td style='width: 50px; height: 50px; text-align: center'>C<td>\n",
              "<td style='width: 50px; height: 50px; text-align: center'>A<td>\n",
              "<td style='width: 50px; height: 50px; text-align: center'>T<td>\n",
              "        </tr>\n",
              "      \n",
              "        <tr>\n",
              "        <td style='width: 50px; height: 50px; text-align: center'>-<td>\n",
              "        <td style='width: 50px; height: 50px; text-align: center; background-color: yellow'>0<td>\n",
              "<td style='width: 50px; height: 50px; text-align: center; background-color: yellow'>-1<td>\n",
              "<td style='width: 50px; height: 50px; text-align: center'>-2<td>\n",
              "<td style='width: 50px; height: 50px; text-align: center'>-3<td>\n",
              "<td style='width: 50px; height: 50px; text-align: center'>-4<td>\n",
              "        </tr>\n",
              "      \n",
              "        <tr>\n",
              "        <td style='width: 50px; height: 50px; text-align: center'>C<td>\n",
              "        <td style='width: 50px; height: 50px; text-align: center'>-1<td>\n",
              "<td style='width: 50px; height: 50px; text-align: center'>-1<td>\n",
              "<td style='width: 50px; height: 50px; text-align: center; background-color: yellow'>0<td>\n",
              "<td style='width: 50px; height: 50px; text-align: center; background-color: yellow'>-1<td>\n",
              "<td style='width: 50px; height: 50px; text-align: center'>-2<td>\n",
              "        </tr>\n",
              "      \n",
              "        <tr>\n",
              "        <td style='width: 50px; height: 50px; text-align: center'>T<td>\n",
              "        <td style='width: 50px; height: 50px; text-align: center'>-2<td>\n",
              "<td style='width: 50px; height: 50px; text-align: center'>-2<td>\n",
              "<td style='width: 50px; height: 50px; text-align: center'>-1<td>\n",
              "<td style='width: 50px; height: 50px; text-align: center'>-1<td>\n",
              "<td style='width: 50px; height: 50px; text-align: center; background-color: yellow'>0<td>\n",
              "        </tr>\n",
              "      \n",
              "  </table>\n",
              "  "
            ],
            "text/plain": [
              "<IPython.core.display.HTML object>"
            ]
          },
          "metadata": {
            "tags": []
          },
          "execution_count": 11
        }
      ]
    },
    {
      "cell_type": "code",
      "metadata": {
        "colab": {
          "base_uri": "https://localhost:8080/",
          "height": 545
        },
        "id": "5_F4ynhLk3wX",
        "outputId": "726193e5-3ed1-4b5d-ce9f-2b1a97f4d730"
      },
      "source": [
        "HTML(get_html_string(sequence_1, sequence_2, hirschberg(sequence_1, sequence_2), title=\"Reported cells\"))"
      ],
      "execution_count": 12,
      "outputs": [
        {
          "output_type": "execute_result",
          "data": {
            "text/html": [
              "\n",
              "  <table style=\"font-size: 15px\">\n",
              "  <h3>Reported cells</h3>\n",
              "        <tr>\n",
              "        <td><td>\n",
              "        <td style='width: 50px; height: 50px; text-align: center'>-<td>\n",
              "<td style='width: 50px; height: 50px; text-align: center'>A<td>\n",
              "<td style='width: 50px; height: 50px; text-align: center'>T<td>\n",
              "<td style='width: 50px; height: 50px; text-align: center'>C<td>\n",
              "<td style='width: 50px; height: 50px; text-align: center'>G<td>\n",
              "<td style='width: 50px; height: 50px; text-align: center'>T<td>\n",
              "<td style='width: 50px; height: 50px; text-align: center'>A<td>\n",
              "<td style='width: 50px; height: 50px; text-align: center'>C<td>\n",
              "        </tr>\n",
              "      \n",
              "        <tr>\n",
              "        <td style='width: 50px; height: 50px; text-align: center'>-<td>\n",
              "        <td style='width: 50px; height: 50px; text-align: center; background-color: yellow'>0<td>\n",
              "<td style='width: 50px; height: 50px; text-align: center'>-1<td>\n",
              "<td style='width: 50px; height: 50px; text-align: center'>-2<td>\n",
              "<td style='width: 50px; height: 50px; text-align: center'>-3<td>\n",
              "<td style='width: 50px; height: 50px; text-align: center'>-4<td>\n",
              "<td style='width: 50px; height: 50px; text-align: center'>-5<td>\n",
              "<td style='width: 50px; height: 50px; text-align: center'>-6<td>\n",
              "<td style='width: 50px; height: 50px; text-align: center'>-7<td>\n",
              "        </tr>\n",
              "      \n",
              "        <tr>\n",
              "        <td style='width: 50px; height: 50px; text-align: center'>A<td>\n",
              "        <td style='width: 50px; height: 50px; text-align: center'>-1<td>\n",
              "<td style='width: 50px; height: 50px; text-align: center; background-color: yellow'>1<td>\n",
              "<td style='width: 50px; height: 50px; text-align: center'>0<td>\n",
              "<td style='width: 50px; height: 50px; text-align: center'>-1<td>\n",
              "<td style='width: 50px; height: 50px; text-align: center'>-2<td>\n",
              "<td style='width: 50px; height: 50px; text-align: center'>-3<td>\n",
              "<td style='width: 50px; height: 50px; text-align: center'>-4<td>\n",
              "<td style='width: 50px; height: 50px; text-align: center'>-5<td>\n",
              "        </tr>\n",
              "      \n",
              "        <tr>\n",
              "        <td style='width: 50px; height: 50px; text-align: center'>T<td>\n",
              "        <td style='width: 50px; height: 50px; text-align: center'>-2<td>\n",
              "<td style='width: 50px; height: 50px; text-align: center'>0<td>\n",
              "<td style='width: 50px; height: 50px; text-align: center; background-color: yellow'>2<td>\n",
              "<td style='width: 50px; height: 50px; text-align: center; background-color: yellow'>1<td>\n",
              "<td style='width: 50px; height: 50px; text-align: center'>0<td>\n",
              "<td style='width: 50px; height: 50px; text-align: center'>-1<td>\n",
              "<td style='width: 50px; height: 50px; text-align: center'>-2<td>\n",
              "<td style='width: 50px; height: 50px; text-align: center'>-3<td>\n",
              "        </tr>\n",
              "      \n",
              "        <tr>\n",
              "        <td style='width: 50px; height: 50px; text-align: center'>G<td>\n",
              "        <td style='width: 50px; height: 50px; text-align: center'>-3<td>\n",
              "<td style='width: 50px; height: 50px; text-align: center'>-1<td>\n",
              "<td style='width: 50px; height: 50px; text-align: center'>1<td>\n",
              "<td style='width: 50px; height: 50px; text-align: center'>1<td>\n",
              "<td style='width: 50px; height: 50px; text-align: center'>2<td>\n",
              "<td style='width: 50px; height: 50px; text-align: center'>1<td>\n",
              "<td style='width: 50px; height: 50px; text-align: center'>0<td>\n",
              "<td style='width: 50px; height: 50px; text-align: center'>-1<td>\n",
              "        </tr>\n",
              "      \n",
              "        <tr>\n",
              "        <td style='width: 50px; height: 50px; text-align: center'>T<td>\n",
              "        <td style='width: 50px; height: 50px; text-align: center'>-4<td>\n",
              "<td style='width: 50px; height: 50px; text-align: center'>-2<td>\n",
              "<td style='width: 50px; height: 50px; text-align: center'>0<td>\n",
              "<td style='width: 50px; height: 50px; text-align: center'>0<td>\n",
              "<td style='width: 50px; height: 50px; text-align: center; background-color: yellow'>1<td>\n",
              "<td style='width: 50px; height: 50px; text-align: center'>3<td>\n",
              "<td style='width: 50px; height: 50px; text-align: center'>2<td>\n",
              "<td style='width: 50px; height: 50px; text-align: center'>1<td>\n",
              "        </tr>\n",
              "      \n",
              "        <tr>\n",
              "        <td style='width: 50px; height: 50px; text-align: center'>T<td>\n",
              "        <td style='width: 50px; height: 50px; text-align: center'>-5<td>\n",
              "<td style='width: 50px; height: 50px; text-align: center'>-3<td>\n",
              "<td style='width: 50px; height: 50px; text-align: center'>-1<td>\n",
              "<td style='width: 50px; height: 50px; text-align: center'>-1<td>\n",
              "<td style='width: 50px; height: 50px; text-align: center'>0<td>\n",
              "<td style='width: 50px; height: 50px; text-align: center; background-color: yellow'>2<td>\n",
              "<td style='width: 50px; height: 50px; text-align: center'>2<td>\n",
              "<td style='width: 50px; height: 50px; text-align: center'>1<td>\n",
              "        </tr>\n",
              "      \n",
              "        <tr>\n",
              "        <td style='width: 50px; height: 50px; text-align: center'>A<td>\n",
              "        <td style='width: 50px; height: 50px; text-align: center'>-6<td>\n",
              "<td style='width: 50px; height: 50px; text-align: center'>-4<td>\n",
              "<td style='width: 50px; height: 50px; text-align: center'>-2<td>\n",
              "<td style='width: 50px; height: 50px; text-align: center'>-2<td>\n",
              "<td style='width: 50px; height: 50px; text-align: center'>-1<td>\n",
              "<td style='width: 50px; height: 50px; text-align: center'>1<td>\n",
              "<td style='width: 50px; height: 50px; text-align: center; background-color: yellow'>3<td>\n",
              "<td style='width: 50px; height: 50px; text-align: center'>2<td>\n",
              "        </tr>\n",
              "      \n",
              "        <tr>\n",
              "        <td style='width: 50px; height: 50px; text-align: center'>T<td>\n",
              "        <td style='width: 50px; height: 50px; text-align: center'>-7<td>\n",
              "<td style='width: 50px; height: 50px; text-align: center'>-5<td>\n",
              "<td style='width: 50px; height: 50px; text-align: center'>-3<td>\n",
              "<td style='width: 50px; height: 50px; text-align: center'>-3<td>\n",
              "<td style='width: 50px; height: 50px; text-align: center'>-2<td>\n",
              "<td style='width: 50px; height: 50px; text-align: center'>0<td>\n",
              "<td style='width: 50px; height: 50px; text-align: center'>2<td>\n",
              "<td style='width: 50px; height: 50px; text-align: center; background-color: yellow'>2<td>\n",
              "        </tr>\n",
              "      \n",
              "  </table>\n",
              "  "
            ],
            "text/plain": [
              "<IPython.core.display.HTML object>"
            ]
          },
          "metadata": {
            "tags": []
          },
          "execution_count": 12
        }
      ]
    },
    {
      "cell_type": "code",
      "metadata": {
        "colab": {
          "base_uri": "https://localhost:8080/",
          "height": 545
        },
        "id": "4LvX5f8Jrv6G",
        "outputId": "6de7916d-f061-40c2-d2cf-1a1194e057f7"
      },
      "source": [
        "path = reconstruct_path(sequence_1, sequence_2, hirschberg(sequence_1, sequence_2))\r\n",
        "HTML(get_html_string(sequence_1, sequence_2, path, title=\"Reconstructed path\"))"
      ],
      "execution_count": 13,
      "outputs": [
        {
          "output_type": "execute_result",
          "data": {
            "text/html": [
              "\n",
              "  <table style=\"font-size: 15px\">\n",
              "  <h3>Reconstructed path</h3>\n",
              "        <tr>\n",
              "        <td><td>\n",
              "        <td style='width: 50px; height: 50px; text-align: center'>-<td>\n",
              "<td style='width: 50px; height: 50px; text-align: center'>A<td>\n",
              "<td style='width: 50px; height: 50px; text-align: center'>T<td>\n",
              "<td style='width: 50px; height: 50px; text-align: center'>C<td>\n",
              "<td style='width: 50px; height: 50px; text-align: center'>G<td>\n",
              "<td style='width: 50px; height: 50px; text-align: center'>T<td>\n",
              "<td style='width: 50px; height: 50px; text-align: center'>A<td>\n",
              "<td style='width: 50px; height: 50px; text-align: center'>C<td>\n",
              "        </tr>\n",
              "      \n",
              "        <tr>\n",
              "        <td style='width: 50px; height: 50px; text-align: center'>-<td>\n",
              "        <td style='width: 50px; height: 50px; text-align: center; background-color: yellow'>0<td>\n",
              "<td style='width: 50px; height: 50px; text-align: center'>-1<td>\n",
              "<td style='width: 50px; height: 50px; text-align: center'>-2<td>\n",
              "<td style='width: 50px; height: 50px; text-align: center'>-3<td>\n",
              "<td style='width: 50px; height: 50px; text-align: center'>-4<td>\n",
              "<td style='width: 50px; height: 50px; text-align: center'>-5<td>\n",
              "<td style='width: 50px; height: 50px; text-align: center'>-6<td>\n",
              "<td style='width: 50px; height: 50px; text-align: center'>-7<td>\n",
              "        </tr>\n",
              "      \n",
              "        <tr>\n",
              "        <td style='width: 50px; height: 50px; text-align: center'>A<td>\n",
              "        <td style='width: 50px; height: 50px; text-align: center'>-1<td>\n",
              "<td style='width: 50px; height: 50px; text-align: center; background-color: yellow'>1<td>\n",
              "<td style='width: 50px; height: 50px; text-align: center'>0<td>\n",
              "<td style='width: 50px; height: 50px; text-align: center'>-1<td>\n",
              "<td style='width: 50px; height: 50px; text-align: center'>-2<td>\n",
              "<td style='width: 50px; height: 50px; text-align: center'>-3<td>\n",
              "<td style='width: 50px; height: 50px; text-align: center'>-4<td>\n",
              "<td style='width: 50px; height: 50px; text-align: center'>-5<td>\n",
              "        </tr>\n",
              "      \n",
              "        <tr>\n",
              "        <td style='width: 50px; height: 50px; text-align: center'>T<td>\n",
              "        <td style='width: 50px; height: 50px; text-align: center'>-2<td>\n",
              "<td style='width: 50px; height: 50px; text-align: center'>0<td>\n",
              "<td style='width: 50px; height: 50px; text-align: center; background-color: yellow'>2<td>\n",
              "<td style='width: 50px; height: 50px; text-align: center; background-color: yellow'>1<td>\n",
              "<td style='width: 50px; height: 50px; text-align: center'>0<td>\n",
              "<td style='width: 50px; height: 50px; text-align: center'>-1<td>\n",
              "<td style='width: 50px; height: 50px; text-align: center'>-2<td>\n",
              "<td style='width: 50px; height: 50px; text-align: center'>-3<td>\n",
              "        </tr>\n",
              "      \n",
              "        <tr>\n",
              "        <td style='width: 50px; height: 50px; text-align: center'>G<td>\n",
              "        <td style='width: 50px; height: 50px; text-align: center'>-3<td>\n",
              "<td style='width: 50px; height: 50px; text-align: center'>-1<td>\n",
              "<td style='width: 50px; height: 50px; text-align: center'>1<td>\n",
              "<td style='width: 50px; height: 50px; text-align: center'>1<td>\n",
              "<td style='width: 50px; height: 50px; text-align: center; background-color: yellow'>2<td>\n",
              "<td style='width: 50px; height: 50px; text-align: center'>1<td>\n",
              "<td style='width: 50px; height: 50px; text-align: center'>0<td>\n",
              "<td style='width: 50px; height: 50px; text-align: center'>-1<td>\n",
              "        </tr>\n",
              "      \n",
              "        <tr>\n",
              "        <td style='width: 50px; height: 50px; text-align: center'>T<td>\n",
              "        <td style='width: 50px; height: 50px; text-align: center'>-4<td>\n",
              "<td style='width: 50px; height: 50px; text-align: center'>-2<td>\n",
              "<td style='width: 50px; height: 50px; text-align: center'>0<td>\n",
              "<td style='width: 50px; height: 50px; text-align: center'>0<td>\n",
              "<td style='width: 50px; height: 50px; text-align: center; background-color: yellow'>1<td>\n",
              "<td style='width: 50px; height: 50px; text-align: center'>3<td>\n",
              "<td style='width: 50px; height: 50px; text-align: center'>2<td>\n",
              "<td style='width: 50px; height: 50px; text-align: center'>1<td>\n",
              "        </tr>\n",
              "      \n",
              "        <tr>\n",
              "        <td style='width: 50px; height: 50px; text-align: center'>T<td>\n",
              "        <td style='width: 50px; height: 50px; text-align: center'>-5<td>\n",
              "<td style='width: 50px; height: 50px; text-align: center'>-3<td>\n",
              "<td style='width: 50px; height: 50px; text-align: center'>-1<td>\n",
              "<td style='width: 50px; height: 50px; text-align: center'>-1<td>\n",
              "<td style='width: 50px; height: 50px; text-align: center'>0<td>\n",
              "<td style='width: 50px; height: 50px; text-align: center; background-color: yellow'>2<td>\n",
              "<td style='width: 50px; height: 50px; text-align: center'>2<td>\n",
              "<td style='width: 50px; height: 50px; text-align: center'>1<td>\n",
              "        </tr>\n",
              "      \n",
              "        <tr>\n",
              "        <td style='width: 50px; height: 50px; text-align: center'>A<td>\n",
              "        <td style='width: 50px; height: 50px; text-align: center'>-6<td>\n",
              "<td style='width: 50px; height: 50px; text-align: center'>-4<td>\n",
              "<td style='width: 50px; height: 50px; text-align: center'>-2<td>\n",
              "<td style='width: 50px; height: 50px; text-align: center'>-2<td>\n",
              "<td style='width: 50px; height: 50px; text-align: center'>-1<td>\n",
              "<td style='width: 50px; height: 50px; text-align: center'>1<td>\n",
              "<td style='width: 50px; height: 50px; text-align: center; background-color: yellow'>3<td>\n",
              "<td style='width: 50px; height: 50px; text-align: center'>2<td>\n",
              "        </tr>\n",
              "      \n",
              "        <tr>\n",
              "        <td style='width: 50px; height: 50px; text-align: center'>T<td>\n",
              "        <td style='width: 50px; height: 50px; text-align: center'>-7<td>\n",
              "<td style='width: 50px; height: 50px; text-align: center'>-5<td>\n",
              "<td style='width: 50px; height: 50px; text-align: center'>-3<td>\n",
              "<td style='width: 50px; height: 50px; text-align: center'>-3<td>\n",
              "<td style='width: 50px; height: 50px; text-align: center'>-2<td>\n",
              "<td style='width: 50px; height: 50px; text-align: center'>0<td>\n",
              "<td style='width: 50px; height: 50px; text-align: center'>2<td>\n",
              "<td style='width: 50px; height: 50px; text-align: center; background-color: yellow'>2<td>\n",
              "        </tr>\n",
              "      \n",
              "  </table>\n",
              "  "
            ],
            "text/plain": [
              "<IPython.core.display.HTML object>"
            ]
          },
          "metadata": {
            "tags": []
          },
          "execution_count": 13
        }
      ]
    },
    {
      "cell_type": "markdown",
      "metadata": {
        "id": "rEzkM3ThUZuC"
      },
      "source": [
        "# Correctness Validaton"
      ]
    },
    {
      "cell_type": "code",
      "metadata": {
        "colab": {
          "base_uri": "https://localhost:8080/",
          "height": 545
        },
        "id": "qaEO7LDmUfBN",
        "outputId": "fd990eb7-e0dd-41c1-bce8-b0fd8a328436"
      },
      "source": [
        "path = [(t1, t0) for t0, t1 in originalscore(sequence_1, sequence_2)]\r\n",
        "HTML(get_html_string(sequence_1, sequence_2, path, title='Global Sequence Alignment'))"
      ],
      "execution_count": 14,
      "outputs": [
        {
          "output_type": "execute_result",
          "data": {
            "text/html": [
              "\n",
              "  <table style=\"font-size: 15px\">\n",
              "  <h3>Global Sequence Alignment</h3>\n",
              "        <tr>\n",
              "        <td><td>\n",
              "        <td style='width: 50px; height: 50px; text-align: center'>-<td>\n",
              "<td style='width: 50px; height: 50px; text-align: center'>A<td>\n",
              "<td style='width: 50px; height: 50px; text-align: center'>T<td>\n",
              "<td style='width: 50px; height: 50px; text-align: center'>C<td>\n",
              "<td style='width: 50px; height: 50px; text-align: center'>G<td>\n",
              "<td style='width: 50px; height: 50px; text-align: center'>T<td>\n",
              "<td style='width: 50px; height: 50px; text-align: center'>A<td>\n",
              "<td style='width: 50px; height: 50px; text-align: center'>C<td>\n",
              "        </tr>\n",
              "      \n",
              "        <tr>\n",
              "        <td style='width: 50px; height: 50px; text-align: center'>-<td>\n",
              "        <td style='width: 50px; height: 50px; text-align: center; background-color: yellow'>0<td>\n",
              "<td style='width: 50px; height: 50px; text-align: center'>-1<td>\n",
              "<td style='width: 50px; height: 50px; text-align: center'>-2<td>\n",
              "<td style='width: 50px; height: 50px; text-align: center'>-3<td>\n",
              "<td style='width: 50px; height: 50px; text-align: center'>-4<td>\n",
              "<td style='width: 50px; height: 50px; text-align: center'>-5<td>\n",
              "<td style='width: 50px; height: 50px; text-align: center'>-6<td>\n",
              "<td style='width: 50px; height: 50px; text-align: center'>-7<td>\n",
              "        </tr>\n",
              "      \n",
              "        <tr>\n",
              "        <td style='width: 50px; height: 50px; text-align: center'>A<td>\n",
              "        <td style='width: 50px; height: 50px; text-align: center'>-1<td>\n",
              "<td style='width: 50px; height: 50px; text-align: center; background-color: yellow'>1<td>\n",
              "<td style='width: 50px; height: 50px; text-align: center'>0<td>\n",
              "<td style='width: 50px; height: 50px; text-align: center'>-1<td>\n",
              "<td style='width: 50px; height: 50px; text-align: center'>-2<td>\n",
              "<td style='width: 50px; height: 50px; text-align: center'>-3<td>\n",
              "<td style='width: 50px; height: 50px; text-align: center'>-4<td>\n",
              "<td style='width: 50px; height: 50px; text-align: center'>-5<td>\n",
              "        </tr>\n",
              "      \n",
              "        <tr>\n",
              "        <td style='width: 50px; height: 50px; text-align: center'>T<td>\n",
              "        <td style='width: 50px; height: 50px; text-align: center'>-2<td>\n",
              "<td style='width: 50px; height: 50px; text-align: center'>0<td>\n",
              "<td style='width: 50px; height: 50px; text-align: center; background-color: yellow'>2<td>\n",
              "<td style='width: 50px; height: 50px; text-align: center; background-color: yellow'>1<td>\n",
              "<td style='width: 50px; height: 50px; text-align: center'>0<td>\n",
              "<td style='width: 50px; height: 50px; text-align: center'>-1<td>\n",
              "<td style='width: 50px; height: 50px; text-align: center'>-2<td>\n",
              "<td style='width: 50px; height: 50px; text-align: center'>-3<td>\n",
              "        </tr>\n",
              "      \n",
              "        <tr>\n",
              "        <td style='width: 50px; height: 50px; text-align: center'>G<td>\n",
              "        <td style='width: 50px; height: 50px; text-align: center'>-3<td>\n",
              "<td style='width: 50px; height: 50px; text-align: center'>-1<td>\n",
              "<td style='width: 50px; height: 50px; text-align: center'>1<td>\n",
              "<td style='width: 50px; height: 50px; text-align: center'>1<td>\n",
              "<td style='width: 50px; height: 50px; text-align: center; background-color: yellow'>2<td>\n",
              "<td style='width: 50px; height: 50px; text-align: center'>1<td>\n",
              "<td style='width: 50px; height: 50px; text-align: center'>0<td>\n",
              "<td style='width: 50px; height: 50px; text-align: center'>-1<td>\n",
              "        </tr>\n",
              "      \n",
              "        <tr>\n",
              "        <td style='width: 50px; height: 50px; text-align: center'>T<td>\n",
              "        <td style='width: 50px; height: 50px; text-align: center'>-4<td>\n",
              "<td style='width: 50px; height: 50px; text-align: center'>-2<td>\n",
              "<td style='width: 50px; height: 50px; text-align: center'>0<td>\n",
              "<td style='width: 50px; height: 50px; text-align: center'>0<td>\n",
              "<td style='width: 50px; height: 50px; text-align: center'>1<td>\n",
              "<td style='width: 50px; height: 50px; text-align: center; background-color: yellow'>3<td>\n",
              "<td style='width: 50px; height: 50px; text-align: center'>2<td>\n",
              "<td style='width: 50px; height: 50px; text-align: center'>1<td>\n",
              "        </tr>\n",
              "      \n",
              "        <tr>\n",
              "        <td style='width: 50px; height: 50px; text-align: center'>T<td>\n",
              "        <td style='width: 50px; height: 50px; text-align: center'>-5<td>\n",
              "<td style='width: 50px; height: 50px; text-align: center'>-3<td>\n",
              "<td style='width: 50px; height: 50px; text-align: center'>-1<td>\n",
              "<td style='width: 50px; height: 50px; text-align: center'>-1<td>\n",
              "<td style='width: 50px; height: 50px; text-align: center'>0<td>\n",
              "<td style='width: 50px; height: 50px; text-align: center; background-color: yellow'>2<td>\n",
              "<td style='width: 50px; height: 50px; text-align: center'>2<td>\n",
              "<td style='width: 50px; height: 50px; text-align: center'>1<td>\n",
              "        </tr>\n",
              "      \n",
              "        <tr>\n",
              "        <td style='width: 50px; height: 50px; text-align: center'>A<td>\n",
              "        <td style='width: 50px; height: 50px; text-align: center'>-6<td>\n",
              "<td style='width: 50px; height: 50px; text-align: center'>-4<td>\n",
              "<td style='width: 50px; height: 50px; text-align: center'>-2<td>\n",
              "<td style='width: 50px; height: 50px; text-align: center'>-2<td>\n",
              "<td style='width: 50px; height: 50px; text-align: center'>-1<td>\n",
              "<td style='width: 50px; height: 50px; text-align: center'>1<td>\n",
              "<td style='width: 50px; height: 50px; text-align: center; background-color: yellow'>3<td>\n",
              "<td style='width: 50px; height: 50px; text-align: center'>2<td>\n",
              "        </tr>\n",
              "      \n",
              "        <tr>\n",
              "        <td style='width: 50px; height: 50px; text-align: center'>T<td>\n",
              "        <td style='width: 50px; height: 50px; text-align: center'>-7<td>\n",
              "<td style='width: 50px; height: 50px; text-align: center'>-5<td>\n",
              "<td style='width: 50px; height: 50px; text-align: center'>-3<td>\n",
              "<td style='width: 50px; height: 50px; text-align: center'>-3<td>\n",
              "<td style='width: 50px; height: 50px; text-align: center'>-2<td>\n",
              "<td style='width: 50px; height: 50px; text-align: center'>0<td>\n",
              "<td style='width: 50px; height: 50px; text-align: center'>2<td>\n",
              "<td style='width: 50px; height: 50px; text-align: center; background-color: yellow'>2<td>\n",
              "        </tr>\n",
              "      \n",
              "  </table>\n",
              "  "
            ],
            "text/plain": [
              "<IPython.core.display.HTML object>"
            ]
          },
          "metadata": {
            "tags": []
          },
          "execution_count": 14
        }
      ]
    },
    {
      "cell_type": "code",
      "metadata": {
        "colab": {
          "base_uri": "https://localhost:8080/",
          "height": 545
        },
        "id": "Z2f10lgNVYQs",
        "outputId": "ab233792-8511-4b29-d725-55eb8a782cbe"
      },
      "source": [
        "path = reconstruct_path(sequence_1, sequence_2, hirschberg(sequence_1, sequence_2))\r\n",
        "HTML(get_html_string(sequence_1, sequence_2, path, title='Linear Space Algorithm'))"
      ],
      "execution_count": 15,
      "outputs": [
        {
          "output_type": "execute_result",
          "data": {
            "text/html": [
              "\n",
              "  <table style=\"font-size: 15px\">\n",
              "  <h3>Linear Space Algorithm</h3>\n",
              "        <tr>\n",
              "        <td><td>\n",
              "        <td style='width: 50px; height: 50px; text-align: center'>-<td>\n",
              "<td style='width: 50px; height: 50px; text-align: center'>A<td>\n",
              "<td style='width: 50px; height: 50px; text-align: center'>T<td>\n",
              "<td style='width: 50px; height: 50px; text-align: center'>C<td>\n",
              "<td style='width: 50px; height: 50px; text-align: center'>G<td>\n",
              "<td style='width: 50px; height: 50px; text-align: center'>T<td>\n",
              "<td style='width: 50px; height: 50px; text-align: center'>A<td>\n",
              "<td style='width: 50px; height: 50px; text-align: center'>C<td>\n",
              "        </tr>\n",
              "      \n",
              "        <tr>\n",
              "        <td style='width: 50px; height: 50px; text-align: center'>-<td>\n",
              "        <td style='width: 50px; height: 50px; text-align: center; background-color: yellow'>0<td>\n",
              "<td style='width: 50px; height: 50px; text-align: center'>-1<td>\n",
              "<td style='width: 50px; height: 50px; text-align: center'>-2<td>\n",
              "<td style='width: 50px; height: 50px; text-align: center'>-3<td>\n",
              "<td style='width: 50px; height: 50px; text-align: center'>-4<td>\n",
              "<td style='width: 50px; height: 50px; text-align: center'>-5<td>\n",
              "<td style='width: 50px; height: 50px; text-align: center'>-6<td>\n",
              "<td style='width: 50px; height: 50px; text-align: center'>-7<td>\n",
              "        </tr>\n",
              "      \n",
              "        <tr>\n",
              "        <td style='width: 50px; height: 50px; text-align: center'>A<td>\n",
              "        <td style='width: 50px; height: 50px; text-align: center'>-1<td>\n",
              "<td style='width: 50px; height: 50px; text-align: center; background-color: yellow'>1<td>\n",
              "<td style='width: 50px; height: 50px; text-align: center'>0<td>\n",
              "<td style='width: 50px; height: 50px; text-align: center'>-1<td>\n",
              "<td style='width: 50px; height: 50px; text-align: center'>-2<td>\n",
              "<td style='width: 50px; height: 50px; text-align: center'>-3<td>\n",
              "<td style='width: 50px; height: 50px; text-align: center'>-4<td>\n",
              "<td style='width: 50px; height: 50px; text-align: center'>-5<td>\n",
              "        </tr>\n",
              "      \n",
              "        <tr>\n",
              "        <td style='width: 50px; height: 50px; text-align: center'>T<td>\n",
              "        <td style='width: 50px; height: 50px; text-align: center'>-2<td>\n",
              "<td style='width: 50px; height: 50px; text-align: center'>0<td>\n",
              "<td style='width: 50px; height: 50px; text-align: center; background-color: yellow'>2<td>\n",
              "<td style='width: 50px; height: 50px; text-align: center; background-color: yellow'>1<td>\n",
              "<td style='width: 50px; height: 50px; text-align: center'>0<td>\n",
              "<td style='width: 50px; height: 50px; text-align: center'>-1<td>\n",
              "<td style='width: 50px; height: 50px; text-align: center'>-2<td>\n",
              "<td style='width: 50px; height: 50px; text-align: center'>-3<td>\n",
              "        </tr>\n",
              "      \n",
              "        <tr>\n",
              "        <td style='width: 50px; height: 50px; text-align: center'>G<td>\n",
              "        <td style='width: 50px; height: 50px; text-align: center'>-3<td>\n",
              "<td style='width: 50px; height: 50px; text-align: center'>-1<td>\n",
              "<td style='width: 50px; height: 50px; text-align: center'>1<td>\n",
              "<td style='width: 50px; height: 50px; text-align: center'>1<td>\n",
              "<td style='width: 50px; height: 50px; text-align: center; background-color: yellow'>2<td>\n",
              "<td style='width: 50px; height: 50px; text-align: center'>1<td>\n",
              "<td style='width: 50px; height: 50px; text-align: center'>0<td>\n",
              "<td style='width: 50px; height: 50px; text-align: center'>-1<td>\n",
              "        </tr>\n",
              "      \n",
              "        <tr>\n",
              "        <td style='width: 50px; height: 50px; text-align: center'>T<td>\n",
              "        <td style='width: 50px; height: 50px; text-align: center'>-4<td>\n",
              "<td style='width: 50px; height: 50px; text-align: center'>-2<td>\n",
              "<td style='width: 50px; height: 50px; text-align: center'>0<td>\n",
              "<td style='width: 50px; height: 50px; text-align: center'>0<td>\n",
              "<td style='width: 50px; height: 50px; text-align: center; background-color: yellow'>1<td>\n",
              "<td style='width: 50px; height: 50px; text-align: center'>3<td>\n",
              "<td style='width: 50px; height: 50px; text-align: center'>2<td>\n",
              "<td style='width: 50px; height: 50px; text-align: center'>1<td>\n",
              "        </tr>\n",
              "      \n",
              "        <tr>\n",
              "        <td style='width: 50px; height: 50px; text-align: center'>T<td>\n",
              "        <td style='width: 50px; height: 50px; text-align: center'>-5<td>\n",
              "<td style='width: 50px; height: 50px; text-align: center'>-3<td>\n",
              "<td style='width: 50px; height: 50px; text-align: center'>-1<td>\n",
              "<td style='width: 50px; height: 50px; text-align: center'>-1<td>\n",
              "<td style='width: 50px; height: 50px; text-align: center'>0<td>\n",
              "<td style='width: 50px; height: 50px; text-align: center; background-color: yellow'>2<td>\n",
              "<td style='width: 50px; height: 50px; text-align: center'>2<td>\n",
              "<td style='width: 50px; height: 50px; text-align: center'>1<td>\n",
              "        </tr>\n",
              "      \n",
              "        <tr>\n",
              "        <td style='width: 50px; height: 50px; text-align: center'>A<td>\n",
              "        <td style='width: 50px; height: 50px; text-align: center'>-6<td>\n",
              "<td style='width: 50px; height: 50px; text-align: center'>-4<td>\n",
              "<td style='width: 50px; height: 50px; text-align: center'>-2<td>\n",
              "<td style='width: 50px; height: 50px; text-align: center'>-2<td>\n",
              "<td style='width: 50px; height: 50px; text-align: center'>-1<td>\n",
              "<td style='width: 50px; height: 50px; text-align: center'>1<td>\n",
              "<td style='width: 50px; height: 50px; text-align: center; background-color: yellow'>3<td>\n",
              "<td style='width: 50px; height: 50px; text-align: center'>2<td>\n",
              "        </tr>\n",
              "      \n",
              "        <tr>\n",
              "        <td style='width: 50px; height: 50px; text-align: center'>T<td>\n",
              "        <td style='width: 50px; height: 50px; text-align: center'>-7<td>\n",
              "<td style='width: 50px; height: 50px; text-align: center'>-5<td>\n",
              "<td style='width: 50px; height: 50px; text-align: center'>-3<td>\n",
              "<td style='width: 50px; height: 50px; text-align: center'>-3<td>\n",
              "<td style='width: 50px; height: 50px; text-align: center'>-2<td>\n",
              "<td style='width: 50px; height: 50px; text-align: center'>0<td>\n",
              "<td style='width: 50px; height: 50px; text-align: center'>2<td>\n",
              "<td style='width: 50px; height: 50px; text-align: center; background-color: yellow'>2<td>\n",
              "        </tr>\n",
              "      \n",
              "  </table>\n",
              "  "
            ],
            "text/plain": [
              "<IPython.core.display.HTML object>"
            ]
          },
          "metadata": {
            "tags": []
          },
          "execution_count": 15
        }
      ]
    },
    {
      "cell_type": "markdown",
      "metadata": {
        "id": "U6ScZf4fdaBj"
      },
      "source": [
        "## Dissimilar Pair"
      ]
    },
    {
      "cell_type": "code",
      "metadata": {
        "colab": {
          "base_uri": "https://localhost:8080/",
          "height": 491
        },
        "id": "LVpXedszdUuV",
        "outputId": "ee56093d-3c8b-4c41-a6cb-5daff5927feb"
      },
      "source": [
        "sequence_1 = 'ATGCTA'\r\n",
        "sequence_2 = 'GGTT'\r\n",
        "\r\n",
        "path = [(t1, t0) for t0, t1 in originalscore(sequence_1, sequence_2)]\r\n",
        "HTML(get_html_string(sequence_1, sequence_2, path, title='Global Sequence Alignment'))"
      ],
      "execution_count": 16,
      "outputs": [
        {
          "output_type": "execute_result",
          "data": {
            "text/html": [
              "\n",
              "  <table style=\"font-size: 15px\">\n",
              "  <h3>Global Sequence Alignment</h3>\n",
              "        <tr>\n",
              "        <td><td>\n",
              "        <td style='width: 50px; height: 50px; text-align: center'>-<td>\n",
              "<td style='width: 50px; height: 50px; text-align: center'>G<td>\n",
              "<td style='width: 50px; height: 50px; text-align: center'>G<td>\n",
              "<td style='width: 50px; height: 50px; text-align: center'>T<td>\n",
              "<td style='width: 50px; height: 50px; text-align: center'>T<td>\n",
              "        </tr>\n",
              "      \n",
              "        <tr>\n",
              "        <td style='width: 50px; height: 50px; text-align: center'>-<td>\n",
              "        <td style='width: 50px; height: 50px; text-align: center; background-color: yellow'>0<td>\n",
              "<td style='width: 50px; height: 50px; text-align: center'>-1<td>\n",
              "<td style='width: 50px; height: 50px; text-align: center'>-2<td>\n",
              "<td style='width: 50px; height: 50px; text-align: center'>-3<td>\n",
              "<td style='width: 50px; height: 50px; text-align: center'>-4<td>\n",
              "        </tr>\n",
              "      \n",
              "        <tr>\n",
              "        <td style='width: 50px; height: 50px; text-align: center'>A<td>\n",
              "        <td style='width: 50px; height: 50px; text-align: center'>-1<td>\n",
              "<td style='width: 50px; height: 50px; text-align: center; background-color: yellow'>-1<td>\n",
              "<td style='width: 50px; height: 50px; text-align: center'>-2<td>\n",
              "<td style='width: 50px; height: 50px; text-align: center'>-3<td>\n",
              "<td style='width: 50px; height: 50px; text-align: center'>-4<td>\n",
              "        </tr>\n",
              "      \n",
              "        <tr>\n",
              "        <td style='width: 50px; height: 50px; text-align: center'>T<td>\n",
              "        <td style='width: 50px; height: 50px; text-align: center'>-2<td>\n",
              "<td style='width: 50px; height: 50px; text-align: center; background-color: yellow'>-2<td>\n",
              "<td style='width: 50px; height: 50px; text-align: center'>-2<td>\n",
              "<td style='width: 50px; height: 50px; text-align: center'>-1<td>\n",
              "<td style='width: 50px; height: 50px; text-align: center'>-2<td>\n",
              "        </tr>\n",
              "      \n",
              "        <tr>\n",
              "        <td style='width: 50px; height: 50px; text-align: center'>G<td>\n",
              "        <td style='width: 50px; height: 50px; text-align: center'>-3<td>\n",
              "<td style='width: 50px; height: 50px; text-align: center'>-1<td>\n",
              "<td style='width: 50px; height: 50px; text-align: center; background-color: yellow'>-1<td>\n",
              "<td style='width: 50px; height: 50px; text-align: center'>-2<td>\n",
              "<td style='width: 50px; height: 50px; text-align: center'>-2<td>\n",
              "        </tr>\n",
              "      \n",
              "        <tr>\n",
              "        <td style='width: 50px; height: 50px; text-align: center'>C<td>\n",
              "        <td style='width: 50px; height: 50px; text-align: center'>-4<td>\n",
              "<td style='width: 50px; height: 50px; text-align: center'>-2<td>\n",
              "<td style='width: 50px; height: 50px; text-align: center'>-2<td>\n",
              "<td style='width: 50px; height: 50px; text-align: center; background-color: yellow'>-2<td>\n",
              "<td style='width: 50px; height: 50px; text-align: center'>-3<td>\n",
              "        </tr>\n",
              "      \n",
              "        <tr>\n",
              "        <td style='width: 50px; height: 50px; text-align: center'>T<td>\n",
              "        <td style='width: 50px; height: 50px; text-align: center'>-5<td>\n",
              "<td style='width: 50px; height: 50px; text-align: center'>-3<td>\n",
              "<td style='width: 50px; height: 50px; text-align: center'>-3<td>\n",
              "<td style='width: 50px; height: 50px; text-align: center'>-1<td>\n",
              "<td style='width: 50px; height: 50px; text-align: center; background-color: yellow'>-1<td>\n",
              "        </tr>\n",
              "      \n",
              "        <tr>\n",
              "        <td style='width: 50px; height: 50px; text-align: center'>A<td>\n",
              "        <td style='width: 50px; height: 50px; text-align: center'>-6<td>\n",
              "<td style='width: 50px; height: 50px; text-align: center'>-4<td>\n",
              "<td style='width: 50px; height: 50px; text-align: center'>-4<td>\n",
              "<td style='width: 50px; height: 50px; text-align: center'>-2<td>\n",
              "<td style='width: 50px; height: 50px; text-align: center; background-color: yellow'>-2<td>\n",
              "        </tr>\n",
              "      \n",
              "  </table>\n",
              "  "
            ],
            "text/plain": [
              "<IPython.core.display.HTML object>"
            ]
          },
          "metadata": {
            "tags": []
          },
          "execution_count": 16
        }
      ]
    },
    {
      "cell_type": "code",
      "metadata": {
        "colab": {
          "base_uri": "https://localhost:8080/",
          "height": 491
        },
        "id": "X9ulZ_EMdjsy",
        "outputId": "00a0b4ae-f18e-41ce-fbe3-706d6f3d2e36"
      },
      "source": [
        "path = reconstruct_path(sequence_1, sequence_2, hirschberg(sequence_1, sequence_2))\r\n",
        "HTML(get_html_string(sequence_1, sequence_2, path, title='Linear Space Algorithm'))"
      ],
      "execution_count": 17,
      "outputs": [
        {
          "output_type": "execute_result",
          "data": {
            "text/html": [
              "\n",
              "  <table style=\"font-size: 15px\">\n",
              "  <h3>Linear Space Algorithm</h3>\n",
              "        <tr>\n",
              "        <td><td>\n",
              "        <td style='width: 50px; height: 50px; text-align: center'>-<td>\n",
              "<td style='width: 50px; height: 50px; text-align: center'>G<td>\n",
              "<td style='width: 50px; height: 50px; text-align: center'>G<td>\n",
              "<td style='width: 50px; height: 50px; text-align: center'>T<td>\n",
              "<td style='width: 50px; height: 50px; text-align: center'>T<td>\n",
              "        </tr>\n",
              "      \n",
              "        <tr>\n",
              "        <td style='width: 50px; height: 50px; text-align: center'>-<td>\n",
              "        <td style='width: 50px; height: 50px; text-align: center; background-color: yellow'>0<td>\n",
              "<td style='width: 50px; height: 50px; text-align: center'>-1<td>\n",
              "<td style='width: 50px; height: 50px; text-align: center'>-2<td>\n",
              "<td style='width: 50px; height: 50px; text-align: center'>-3<td>\n",
              "<td style='width: 50px; height: 50px; text-align: center'>-4<td>\n",
              "        </tr>\n",
              "      \n",
              "        <tr>\n",
              "        <td style='width: 50px; height: 50px; text-align: center'>A<td>\n",
              "        <td style='width: 50px; height: 50px; text-align: center; background-color: yellow'>-1<td>\n",
              "<td style='width: 50px; height: 50px; text-align: center'>-1<td>\n",
              "<td style='width: 50px; height: 50px; text-align: center'>-2<td>\n",
              "<td style='width: 50px; height: 50px; text-align: center'>-3<td>\n",
              "<td style='width: 50px; height: 50px; text-align: center'>-4<td>\n",
              "        </tr>\n",
              "      \n",
              "        <tr>\n",
              "        <td style='width: 50px; height: 50px; text-align: center'>T<td>\n",
              "        <td style='width: 50px; height: 50px; text-align: center; background-color: yellow'>-2<td>\n",
              "<td style='width: 50px; height: 50px; text-align: center'>-2<td>\n",
              "<td style='width: 50px; height: 50px; text-align: center'>-2<td>\n",
              "<td style='width: 50px; height: 50px; text-align: center'>-1<td>\n",
              "<td style='width: 50px; height: 50px; text-align: center'>-2<td>\n",
              "        </tr>\n",
              "      \n",
              "        <tr>\n",
              "        <td style='width: 50px; height: 50px; text-align: center'>G<td>\n",
              "        <td style='width: 50px; height: 50px; text-align: center'>-3<td>\n",
              "<td style='width: 50px; height: 50px; text-align: center; background-color: yellow'>-1<td>\n",
              "<td style='width: 50px; height: 50px; text-align: center'>-1<td>\n",
              "<td style='width: 50px; height: 50px; text-align: center'>-2<td>\n",
              "<td style='width: 50px; height: 50px; text-align: center'>-2<td>\n",
              "        </tr>\n",
              "      \n",
              "        <tr>\n",
              "        <td style='width: 50px; height: 50px; text-align: center'>C<td>\n",
              "        <td style='width: 50px; height: 50px; text-align: center'>-4<td>\n",
              "<td style='width: 50px; height: 50px; text-align: center'>-2<td>\n",
              "<td style='width: 50px; height: 50px; text-align: center; background-color: yellow'>-2<td>\n",
              "<td style='width: 50px; height: 50px; text-align: center'>-2<td>\n",
              "<td style='width: 50px; height: 50px; text-align: center'>-3<td>\n",
              "        </tr>\n",
              "      \n",
              "        <tr>\n",
              "        <td style='width: 50px; height: 50px; text-align: center'>T<td>\n",
              "        <td style='width: 50px; height: 50px; text-align: center'>-5<td>\n",
              "<td style='width: 50px; height: 50px; text-align: center'>-3<td>\n",
              "<td style='width: 50px; height: 50px; text-align: center'>-3<td>\n",
              "<td style='width: 50px; height: 50px; text-align: center; background-color: yellow'>-1<td>\n",
              "<td style='width: 50px; height: 50px; text-align: center'>-1<td>\n",
              "        </tr>\n",
              "      \n",
              "        <tr>\n",
              "        <td style='width: 50px; height: 50px; text-align: center'>A<td>\n",
              "        <td style='width: 50px; height: 50px; text-align: center'>-6<td>\n",
              "<td style='width: 50px; height: 50px; text-align: center'>-4<td>\n",
              "<td style='width: 50px; height: 50px; text-align: center'>-4<td>\n",
              "<td style='width: 50px; height: 50px; text-align: center'>-2<td>\n",
              "<td style='width: 50px; height: 50px; text-align: center; background-color: yellow'>-2<td>\n",
              "        </tr>\n",
              "      \n",
              "  </table>\n",
              "  "
            ],
            "text/plain": [
              "<IPython.core.display.HTML object>"
            ]
          },
          "metadata": {
            "tags": []
          },
          "execution_count": 17
        }
      ]
    },
    {
      "cell_type": "markdown",
      "metadata": {
        "id": "F9P8neirsAN1"
      },
      "source": [
        "# Interactive Demo"
      ]
    },
    {
      "cell_type": "code",
      "metadata": {
        "id": "RA29H25MsVAN"
      },
      "source": [
        "#@title Parameters\n",
        "sequence_1 = \"AGCTA\" #@param {type: \"string\"}\n",
        "sequence_2 = \"ACGAC\" #@param {type: \"string\"}"
      ],
      "execution_count": 18,
      "outputs": []
    },
    {
      "cell_type": "code",
      "metadata": {
        "id": "vdpBizTiNBU2",
        "colab": {
          "base_uri": "https://localhost:8080/",
          "height": 413
        },
        "outputId": "29b9dbf0-ad29-41c7-8c8a-be338c0515bf"
      },
      "source": [
        "path = reconstruct_path(sequence_1, sequence_2, hirschberg(sequence_1, sequence_2))\r\n",
        "HTML(get_html_string(sequence_1, sequence_2, path))"
      ],
      "execution_count": 19,
      "outputs": [
        {
          "output_type": "execute_result",
          "data": {
            "text/html": [
              "\n",
              "  <table style=\"font-size: 15px\">\n",
              "  <h3></h3>\n",
              "        <tr>\n",
              "        <td><td>\n",
              "        <td style='width: 50px; height: 50px; text-align: center'>-<td>\n",
              "<td style='width: 50px; height: 50px; text-align: center'>A<td>\n",
              "<td style='width: 50px; height: 50px; text-align: center'>C<td>\n",
              "<td style='width: 50px; height: 50px; text-align: center'>G<td>\n",
              "<td style='width: 50px; height: 50px; text-align: center'>A<td>\n",
              "<td style='width: 50px; height: 50px; text-align: center'>C<td>\n",
              "        </tr>\n",
              "      \n",
              "        <tr>\n",
              "        <td style='width: 50px; height: 50px; text-align: center'>-<td>\n",
              "        <td style='width: 50px; height: 50px; text-align: center; background-color: yellow'>0<td>\n",
              "<td style='width: 50px; height: 50px; text-align: center'>-1<td>\n",
              "<td style='width: 50px; height: 50px; text-align: center'>-2<td>\n",
              "<td style='width: 50px; height: 50px; text-align: center'>-3<td>\n",
              "<td style='width: 50px; height: 50px; text-align: center'>-4<td>\n",
              "<td style='width: 50px; height: 50px; text-align: center'>-5<td>\n",
              "        </tr>\n",
              "      \n",
              "        <tr>\n",
              "        <td style='width: 50px; height: 50px; text-align: center'>A<td>\n",
              "        <td style='width: 50px; height: 50px; text-align: center'>-1<td>\n",
              "<td style='width: 50px; height: 50px; text-align: center; background-color: yellow'>1<td>\n",
              "<td style='width: 50px; height: 50px; text-align: center'>0<td>\n",
              "<td style='width: 50px; height: 50px; text-align: center'>-1<td>\n",
              "<td style='width: 50px; height: 50px; text-align: center'>-2<td>\n",
              "<td style='width: 50px; height: 50px; text-align: center'>-3<td>\n",
              "        </tr>\n",
              "      \n",
              "        <tr>\n",
              "        <td style='width: 50px; height: 50px; text-align: center'>G<td>\n",
              "        <td style='width: 50px; height: 50px; text-align: center'>-2<td>\n",
              "<td style='width: 50px; height: 50px; text-align: center; background-color: yellow'>0<td>\n",
              "<td style='width: 50px; height: 50px; text-align: center'>0<td>\n",
              "<td style='width: 50px; height: 50px; text-align: center'>1<td>\n",
              "<td style='width: 50px; height: 50px; text-align: center'>0<td>\n",
              "<td style='width: 50px; height: 50px; text-align: center'>-1<td>\n",
              "        </tr>\n",
              "      \n",
              "        <tr>\n",
              "        <td style='width: 50px; height: 50px; text-align: center'>C<td>\n",
              "        <td style='width: 50px; height: 50px; text-align: center'>-3<td>\n",
              "<td style='width: 50px; height: 50px; text-align: center'>-1<td>\n",
              "<td style='width: 50px; height: 50px; text-align: center; background-color: yellow'>1<td>\n",
              "<td style='width: 50px; height: 50px; text-align: center'>0<td>\n",
              "<td style='width: 50px; height: 50px; text-align: center'>0<td>\n",
              "<td style='width: 50px; height: 50px; text-align: center'>1<td>\n",
              "        </tr>\n",
              "      \n",
              "        <tr>\n",
              "        <td style='width: 50px; height: 50px; text-align: center'>T<td>\n",
              "        <td style='width: 50px; height: 50px; text-align: center'>-4<td>\n",
              "<td style='width: 50px; height: 50px; text-align: center'>-2<td>\n",
              "<td style='width: 50px; height: 50px; text-align: center'>0<td>\n",
              "<td style='width: 50px; height: 50px; text-align: center; background-color: yellow'>0<td>\n",
              "<td style='width: 50px; height: 50px; text-align: center'>-1<td>\n",
              "<td style='width: 50px; height: 50px; text-align: center'>0<td>\n",
              "        </tr>\n",
              "      \n",
              "        <tr>\n",
              "        <td style='width: 50px; height: 50px; text-align: center'>A<td>\n",
              "        <td style='width: 50px; height: 50px; text-align: center'>-5<td>\n",
              "<td style='width: 50px; height: 50px; text-align: center'>-3<td>\n",
              "<td style='width: 50px; height: 50px; text-align: center'>-1<td>\n",
              "<td style='width: 50px; height: 50px; text-align: center'>-1<td>\n",
              "<td style='width: 50px; height: 50px; text-align: center; background-color: yellow'>1<td>\n",
              "<td style='width: 50px; height: 50px; text-align: center; background-color: yellow'>0<td>\n",
              "        </tr>\n",
              "      \n",
              "  </table>\n",
              "  "
            ],
            "text/plain": [
              "<IPython.core.display.HTML object>"
            ]
          },
          "metadata": {
            "tags": []
          },
          "execution_count": 19
        }
      ]
    },
    {
      "cell_type": "markdown",
      "metadata": {
        "id": "YGWTK1tlNL_x"
      },
      "source": [
        "# Correctness Validation"
      ]
    },
    {
      "cell_type": "code",
      "metadata": {
        "id": "A930bXRiuKTB"
      },
      "source": [
        "def reconstruct_path(s1,s2):\r\n",
        "    score = hirschberg(s1, s2)\r\n",
        "    seq1 = \"\"\r\n",
        "    seq2 = \"\"\r\n",
        "    for s in score:\r\n",
        "        if (s == (0,0)):\r\n",
        "            temp = s\r\n",
        "            continue\r\n",
        "        else:\r\n",
        "            if(s[0]-temp[0] == 0):\r\n",
        "                seq1 += \"-\"\r\n",
        "                seq2 += s2[s[1]-1]\r\n",
        "            elif(s[0]-temp[0] == 1):\r\n",
        "                seq1 += s1[s[0]-1]\r\n",
        "                seq2 += s2[s[1]-1]\r\n",
        "            else:\r\n",
        "                seq1 += s1[temp[0]]\r\n",
        "                seq2 += s2[temp[1]]\r\n",
        "                for j in range(s[0]-temp[0]-1):\r\n",
        "                    seq2 += \"-\"\r\n",
        "                    seq1 += s1[temp[0]+1+j]\r\n",
        "            temp = s\r\n",
        "    return (seq1,seq2)"
      ],
      "execution_count": 20,
      "outputs": []
    },
    {
      "cell_type": "code",
      "metadata": {
        "colab": {
          "base_uri": "https://localhost:8080/"
        },
        "id": "36XLZB58NVjP",
        "outputId": "68caf31c-d2b8-4223-af2d-4d2f72b0272c"
      },
      "source": [
        "reconstruct_path(sequence_1,sequence_2)"
      ],
      "execution_count": 24,
      "outputs": [
        {
          "output_type": "execute_result",
          "data": {
            "text/plain": [
              "('AGCTA-', 'A-CGAC')"
            ]
          },
          "metadata": {
            "tags": []
          },
          "execution_count": 24
        }
      ]
    },
    {
      "cell_type": "code",
      "metadata": {
        "colab": {
          "base_uri": "https://localhost:8080/"
        },
        "id": "y-Owc3GnN5UD",
        "outputId": "b2169d58-6175-45f7-916f-dcfb5b399958"
      },
      "source": [
        "disseq_1 = \"ATGCTA\"\r\n",
        "disseq_2 = \"GGTT\"\r\n",
        "reconstruct_path(disseq_1,disseq_2)"
      ],
      "execution_count": 25,
      "outputs": [
        {
          "output_type": "execute_result",
          "data": {
            "text/plain": [
              "('ATGCTA', 'G--GTT')"
            ]
          },
          "metadata": {
            "tags": []
          },
          "execution_count": 25
        }
      ]
    },
    {
      "cell_type": "markdown",
      "metadata": {
        "id": "RcAUkIEDOsRm"
      },
      "source": [
        "# Analyze space complexity"
      ]
    },
    {
      "cell_type": "code",
      "metadata": {
        "colab": {
          "base_uri": "https://localhost:8080/"
        },
        "id": "YxtCA_C7Orho",
        "outputId": "4629db9b-9a49-4b1f-b304-522d4febc28f"
      },
      "source": [
        "!pip install -U memory_profiler"
      ],
      "execution_count": 26,
      "outputs": [
        {
          "output_type": "stream",
          "text": [
            "Collecting memory_profiler\n",
            "  Downloading https://files.pythonhosted.org/packages/8f/fd/d92b3295657f8837e0177e7b48b32d6651436f0293af42b76d134c3bb489/memory_profiler-0.58.0.tar.gz\n",
            "Requirement already satisfied, skipping upgrade: psutil in /usr/local/lib/python3.6/dist-packages (from memory_profiler) (5.4.8)\n",
            "Building wheels for collected packages: memory-profiler\n",
            "  Building wheel for memory-profiler (setup.py) ... \u001b[?25l\u001b[?25hdone\n",
            "  Created wheel for memory-profiler: filename=memory_profiler-0.58.0-cp36-none-any.whl size=30181 sha256=d4522d3383926872eb2b00203e957c577d30adab4e0aee447b2be2ab6112b0fd\n",
            "  Stored in directory: /root/.cache/pip/wheels/02/e4/0b/aaab481fc5dd2a4ea59e78bc7231bb6aae7635ca7ee79f8ae5\n",
            "Successfully built memory-profiler\n",
            "Installing collected packages: memory-profiler\n",
            "Successfully installed memory-profiler-0.58.0\n"
          ],
          "name": "stdout"
        }
      ]
    },
    {
      "cell_type": "code",
      "metadata": {
        "id": "jNTCpHQoOZ0n"
      },
      "source": [
        "keys = ['A', 'C', 'T', 'G', '-']\r\n",
        "\r\n",
        "# Previous quadratic space sequence alignment from homework\r\n",
        "def traceback_global(v, w, pointers):\r\n",
        "    i,j = len(v), len(w)\r\n",
        "    new_v = []\r\n",
        "    new_w = []\r\n",
        "    while True:\r\n",
        "        di, dj = pointers[i][j]\r\n",
        "        if (di,dj) == LEFT:\r\n",
        "            new_v.append('-')\r\n",
        "            new_w.append(w[j-1])\r\n",
        "        elif (di,dj) == UP:\r\n",
        "            new_v.append(v[i-1])\r\n",
        "            new_w.append('-')\r\n",
        "        elif (di,dj) == TOPLEFT:\r\n",
        "            new_v.append(v[i-1])\r\n",
        "            new_w.append(w[j-1])\r\n",
        "        i, j = i + di, j + dj\r\n",
        "        if (i <= 0 and j <= 0):\r\n",
        "            break\r\n",
        "    return ''.join(new_v[::-1])+'\\n'+''.join(new_w[::-1])\r\n",
        "\r\n",
        "def score_helper(vi,wj,delta):\r\n",
        "  return delta[vi][wj]\r\n",
        "\r\n",
        "delta = {}\r\n",
        "for i in range(len(keys)):\r\n",
        "    delta[keys[i]] = {k : v for (k,v) in zip(keys, [1 if keys[i] == keys[j]  else -1 for j in range(len(keys))])}\r\n",
        "    \r\n",
        "def global_align(v, w):\r\n",
        "    \"\"\"\r\n",
        "    Returns the score of the maximum scoring alignment of the strings v and w, as well as the actual alignment as \r\n",
        "    computed by traceback_global. \r\n",
        "    \r\n",
        "    :param: v\r\n",
        "    :param: w\r\n",
        "    :param: delta\r\n",
        "    \"\"\"\r\n",
        "    \r\n",
        "    M = [[0 for j in range(len(w)+1)] for i in range(len(v)+1)]\r\n",
        "    pointers = [[ORIGIN for j in range(len(w)+1)] for i in range(len(v)+1)]\r\n",
        "    score, alignment = None, None\r\n",
        "    # YOUR CODE HERE\r\n",
        "    i = 0\r\n",
        "    j = 0\r\n",
        "\r\n",
        "    for i in range(len(v)+1):\r\n",
        "      for j in range(len(w)+1):\r\n",
        "        if ((i == 0) & (j == 0)):\r\n",
        "          continue\r\n",
        "        if ((i == 0) & (j > 0)):\r\n",
        "          M[i][j] = score_helper('-',w[j-1],delta) + M[i][j-1]\r\n",
        "          pointers[i][j] = LEFT\r\n",
        "        if ((i > 0) & (j == 0)):\r\n",
        "          M[i][j] = score_helper(v[i-1],'-',delta) + M[i-1][j]\r\n",
        "          pointers[i][j] = UP\r\n",
        "        if ((i > 0) & (j > 0)):\r\n",
        "          s1 = score_helper('-',w[j-1],delta) + M[i][j-1] # LEFT\r\n",
        "          s2 = score_helper(v[i-1],'-',delta) + M[i-1][j] # UP\r\n",
        "          s3 = score_helper(v[i-1],w[j-1],delta) + M[i-1][j-1] # TOPLEFT\r\n",
        "          l = [s1,s2,s3]\r\n",
        "          if (max(l) == s1):\r\n",
        "            M[i][j] = s1\r\n",
        "            pointers[i][j] = LEFT\r\n",
        "          elif (max(l) == s2):\r\n",
        "            M[i][j] = s2\r\n",
        "            pointers[i][j] = UP\r\n",
        "          else:\r\n",
        "            M[i][j] = s3\r\n",
        "            pointers[i][j] = TOPLEFT\r\n",
        "          \r\n",
        "    alignment = traceback_global(v,w, pointers)\r\n",
        "    score = M[i][j]\r\n",
        "    # print(np.array(M))\r\n",
        "    # print(np.array(pointers))\r\n",
        "    return alignment"
      ],
      "execution_count": 34,
      "outputs": []
    },
    {
      "cell_type": "code",
      "metadata": {
        "id": "GxXLltkWOyoc"
      },
      "source": [
        "import memory_profiler\r\n",
        "import random\r\n",
        "%load_ext memory_profiler"
      ],
      "execution_count": 29,
      "outputs": []
    },
    {
      "cell_type": "code",
      "metadata": {
        "colab": {
          "base_uri": "https://localhost:8080/"
        },
        "id": "Y2asdwoLPBce",
        "outputId": "0bebbac4-15e3-45b8-e0aa-cc3914ec7b69"
      },
      "source": [
        "%memit hirschberg(sequence_1, sequence_2) # Memory used by hirschberg"
      ],
      "execution_count": 30,
      "outputs": [
        {
          "output_type": "stream",
          "text": [
            "peak memory: 108.30 MiB, increment: 0.04 MiB\n"
          ],
          "name": "stdout"
        }
      ]
    },
    {
      "cell_type": "code",
      "metadata": {
        "colab": {
          "base_uri": "https://localhost:8080/"
        },
        "id": "WAk-O3r9PC4b",
        "outputId": "f1930137-56cd-458e-d24e-562c17767ddc"
      },
      "source": [
        "%memit -o global_align(sequence_1, sequence_2) # Memory used by Needleman"
      ],
      "execution_count": 31,
      "outputs": [
        {
          "output_type": "stream",
          "text": [
            "peak memory: 108.30 MiB, increment: 0.00 MiB\n"
          ],
          "name": "stdout"
        },
        {
          "output_type": "execute_result",
          "data": {
            "text/plain": [
              "<MemitResult : peak memory: 108.30 MiB, increment: 0.00 MiB>"
            ]
          },
          "metadata": {
            "tags": []
          },
          "execution_count": 31
        }
      ]
    },
    {
      "cell_type": "code",
      "metadata": {
        "colab": {
          "base_uri": "https://localhost:8080/"
        },
        "id": "0Nv7ICm6PEzw",
        "outputId": "c501f9a8-457d-4ddb-d1ff-d142beaff5dc"
      },
      "source": [
        "base = 1000\r\n",
        "end = base * 4\r\n",
        "interval = int(base/5)\r\n",
        "letters = keys[:4]\r\n",
        "meo1 = []\r\n",
        "meo2 = []\r\n",
        "\r\n",
        "t1 = []\r\n",
        "t2 = []\r\n",
        "for i in range(base,end,interval):\r\n",
        "    test_seq1 = \"\"\r\n",
        "    test_seq2 = \"\"\r\n",
        "    for j in range(i):\r\n",
        "        test_seq1 = test_seq1 + random.choice(letters)\r\n",
        "        test_seq2 = test_seq2 + random.choice(letters)\r\n",
        "    x = %memit -o hirschberg(test_seq1, test_seq2)\r\n",
        "    y = %memit -o global_align(test_seq1, test_seq2)\r\n",
        "    \r\n",
        "    memory_hir = x.mem_usage[0] - x.baseline\r\n",
        "    memory_ned = y.mem_usage[0] - y.baseline\r\n",
        "    \r\n",
        "    meo1.append(memory_hir)\r\n",
        "    meo2.append(memory_ned)"
      ],
      "execution_count": 32,
      "outputs": [
        {
          "output_type": "stream",
          "text": [
            "peak memory: 124.30 MiB, increment: 15.95 MiB\n",
            "peak memory: 149.03 MiB, increment: 35.34 MiB\n",
            "peak memory: 147.47 MiB, increment: 18.93 MiB\n",
            "peak memory: 169.99 MiB, increment: 40.26 MiB\n",
            "peak memory: 164.54 MiB, increment: 22.51 MiB\n",
            "peak memory: 186.48 MiB, increment: 44.17 MiB\n",
            "peak memory: 177.56 MiB, increment: 30.81 MiB\n",
            "peak memory: 222.24 MiB, increment: 74.93 MiB\n",
            "peak memory: 207.70 MiB, increment: 40.17 MiB\n",
            "peak memory: 240.59 MiB, increment: 71.89 MiB\n",
            "peak memory: 223.41 MiB, increment: 49.29 MiB\n",
            "peak memory: 275.65 MiB, increment: 100.99 MiB\n",
            "peak memory: 251.70 MiB, increment: 59.00 MiB\n",
            "peak memory: 308.26 MiB, increment: 114.79 MiB\n",
            "peak memory: 279.27 MiB, increment: 71.21 MiB\n",
            "peak memory: 366.07 MiB, increment: 157.21 MiB\n",
            "peak memory: 328.29 MiB, increment: 83.17 MiB\n",
            "peak memory: 404.20 MiB, increment: 158.59 MiB\n",
            "peak memory: 360.58 MiB, increment: 96.58 MiB\n",
            "peak memory: 441.70 MiB, increment: 176.86 MiB\n",
            "peak memory: 387.24 MiB, increment: 112.74 MiB\n",
            "peak memory: 536.07 MiB, increment: 259.23 MiB\n",
            "peak memory: 466.07 MiB, increment: 126.45 MiB\n",
            "peak memory: 575.90 MiB, increment: 235.58 MiB\n",
            "peak memory: 492.88 MiB, increment: 143.16 MiB\n",
            "peak memory: 622.88 MiB, increment: 272.49 MiB\n",
            "peak memory: 521.92 MiB, increment: 159.48 MiB\n",
            "peak memory: 696.21 MiB, increment: 332.24 MiB\n",
            "peak memory: 569.54 MiB, increment: 178.47 MiB\n",
            "peak memory: 754.41 MiB, increment: 362.81 MiB\n"
          ],
          "name": "stdout"
        }
      ]
    },
    {
      "cell_type": "code",
      "metadata": {
        "colab": {
          "base_uri": "https://localhost:8080/",
          "height": 313
        },
        "id": "-TbXSC8sPIeH",
        "outputId": "167f56e5-a2dd-413f-c225-bf0d14307967"
      },
      "source": [
        "from matplotlib import pyplot as plt\r\n",
        "plt.plot(range(base,end,interval),meo1,label = 'Hirschberg')\r\n",
        "plt.plot(range(base,end,interval),meo2,label = 'needleman-Wunsch')\r\n",
        "plt.xlabel('Sequence Length')\r\n",
        "plt.ylabel('Memory Used')\r\n",
        "plt.title('Memory Verification Using Random Sequence with Different Lengths')\r\n",
        "plt.legend()"
      ],
      "execution_count": 33,
      "outputs": [
        {
          "output_type": "execute_result",
          "data": {
            "text/plain": [
              "<matplotlib.legend.Legend at 0x7fb8a0e2b278>"
            ]
          },
          "metadata": {
            "tags": []
          },
          "execution_count": 33
        },
        {
          "output_type": "display_data",
          "data": {
            "image/png": "[encoded data removed]",
            "text/plain": [
              "<Figure size 432x288 with 1 Axes>"
            ]
          },
          "metadata": {
            "tags": [],
            "needs_background": "light"
          }
        }
      ]
    },
    {
      "cell_type": "code",
      "metadata": {
        "id": "Q4O167-4PKY3"
      },
      "source": [
        ""
      ],
      "execution_count": null,
      "outputs": []
    }
  ]
}