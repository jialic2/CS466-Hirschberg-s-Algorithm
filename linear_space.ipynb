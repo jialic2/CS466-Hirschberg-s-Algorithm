{
  "nbformat": 4,
  "nbformat_minor": 0,
  "metadata": {
    "colab": {
      "name": " CS466-project.ipynb",
      "provenance": [],
      "collapsed_sections": []
    },
    "kernelspec": {
      "name": "python3",
      "display_name": "Python 3"
    }
  },
  "cells": [
    {
      "cell_type": "markdown",
      "metadata": {
        "id": "qXesYfGEhPIu"
      },
      "source": [
        "# Quadratic Space Global Alignment"
      ]
    },
    {
      "cell_type": "code",
      "metadata": {
        "id": "3qHdV4Nf1Iml"
      },
      "source": [
        "def originalres(s1,s2):\n",
        "    len1 = len(s1)\n",
        "    len2 = len(s2)\n",
        "    dp = [[0 for j in range(len1 + 1)] for i in range(len2 + 1)]\n",
        "    for i in range(len2 + 1):\n",
        "        for j in range(len1 + 1):\n",
        "            if i==0 and j==0:\n",
        "                dp[i][j]=0\n",
        "            elif i>0 and j==0:\n",
        "                dp[i][j]=dp[i-1][j]-1\n",
        "            elif i==0 and j>0:\n",
        "                dp[i][j]=dp[i][j-1]-1\n",
        "            else:\n",
        "                score = 1 if s1[j-1]==s2[i-1] else -1\n",
        "                dp[i][j] = max(dp[i-1][j]-1,max(dp[i][j-1]-1,dp[i-1][j-1]+score))\n",
        "    return dp[len2]"
      ],
      "execution_count": 1,
      "outputs": []
    },
    {
      "cell_type": "code",
      "metadata": {
        "id": "sWzwxwrIqu0b"
      },
      "source": [
        "def originalscore(s1,s2):\n",
        "    len1 = len(s1)\n",
        "    len2 = len(s2)\n",
        "    dp = [[0 for j in range(len1 + 1)] for i in range(len2 + 1)]\n",
        "    for i in range(len2 + 1):\n",
        "        for j in range(len1 + 1):\n",
        "            if i==0 and j==0:\n",
        "                dp[i][j]=0\n",
        "            elif i>0 and j==0:\n",
        "                dp[i][j]=dp[i-1][j]-1\n",
        "            elif i==0 and j>0:\n",
        "                dp[i][j]=dp[i][j-1]-1\n",
        "            else:\n",
        "                score = 0 if s1[j-1]==s2[i-1] else -1\n",
        "                dp[i][j] = max(dp[i-1][j]-1,max(dp[i][j-1]-1,dp[i-1][j-1]+score))\n",
        "    i = len2\n",
        "    j = len1\n",
        "    res = []\n",
        "    res.append((i,j))\n",
        "    while i>0 or j>0:\n",
        "        if i>0 and dp[i][j] == dp[i-1][j]-1:\n",
        "            i-=1\n",
        "        elif j>0 and dp[i][j]==dp[i][j-1]-1:\n",
        "            j-=1\n",
        "        else:\n",
        "            i -= 1\n",
        "            j -=1\n",
        "        res.append((i,j))\n",
        "    res.sort(key=lambda x: (x[0],x[1]))\n",
        "    return res"
      ],
      "execution_count": 2,
      "outputs": []
    },
    {
      "cell_type": "code",
      "metadata": {
        "colab": {
          "base_uri": "https://localhost:8080/"
        },
        "id": "UfOmb_SM1YTn",
        "outputId": "823082ea-17b8-48e8-f3cb-73acfce6cf8e"
      },
      "source": [
        "sequence_1 = \"ATGTTAT\"\n",
        "sequence_2 = \"ATCGTAC\"\n",
        "\n",
        "print(\"alignment:\", originalscore(sequence_1, sequence_2))\n",
        "print(\"score:\", originalres(sequence_1, sequence_2)[-1])"
      ],
      "execution_count": 3,
      "outputs": [
        {
          "output_type": "stream",
          "text": [
            "alignment: [(0, 0), (1, 1), (2, 2), (3, 2), (4, 3), (5, 4), (5, 5), (6, 6), (7, 7)]\n",
            "score: 2\n"
          ],
          "name": "stdout"
        }
      ]
    },
    {
      "cell_type": "markdown",
      "metadata": {
        "id": "X-miuKtGhZKL"
      },
      "source": [
        "# Linear Space Algorithm"
      ]
    },
    {
      "cell_type": "code",
      "metadata": {
        "colab": {
          "base_uri": "https://localhost:8080/"
        },
        "id": "Y3asl7g0o7dB",
        "outputId": "22eb13e2-ac32-4fff-a8f8-6b5fc7ec1985"
      },
      "source": [
        "def linearspacescore(s1, s2):\n",
        "    len1 = len(s1)\n",
        "    len2 = len(s2)\n",
        "    dp = [[0 for j in range(len1 + 1)] for i in range(2)]\n",
        "    curridx = 0\n",
        "    for i in range(len2 + 1):\n",
        "        for j in range(len1 + 1):\n",
        "            if i==0 and j==0:\n",
        "                dp[curridx][j]=0\n",
        "            elif i>0 and j==0:\n",
        "                dp[curridx][j]=dp[1-curridx][j]-1\n",
        "            elif i==0 and j>0:\n",
        "                dp[curridx][j]=dp[curridx][j-1]-1\n",
        "            else:\n",
        "                score = 1 if s1[j-1] == s2[i-1] else -1\n",
        "                dp[curridx][j] = max(dp[1-curridx][j]-1,max(dp[curridx][j-1]-1,dp[1-curridx][j-1]+score))\n",
        "        curridx = 1-curridx\n",
        "    return dp[1-curridx]\n",
        "\n",
        "print('score:', linearspacescore(sequence_1, sequence_2)[-1])"
      ],
      "execution_count": 4,
      "outputs": [
        {
          "output_type": "stream",
          "text": [
            "score: 2\n"
          ],
          "name": "stdout"
        }
      ]
    },
    {
      "cell_type": "code",
      "metadata": {
        "id": "N-g5F1rEqq38"
      },
      "source": [
        "def hirschbergrecur(s1,s2,i,j,ip,jp,res):\n",
        "    # i,j,ip,jp are all inclusive i.e. s1[i.....ip) and s2[j.....jp) and 1-indexed\n",
        "    if jp-j==1:\n",
        "        res.append((i, j))\n",
        "        res.append((ip, jp))\n",
        "        return\n",
        "    if jp - j < 1:\n",
        "      return\n",
        "    mid = int((j+jp)/2)\n",
        "    prefix = linearspacescore(s1[i:ip:],s2[j:mid:])\n",
        "    suffix = linearspacescore(s1[i:ip:][::-1],s2[mid:jp:][::-1])\n",
        "    assert prefix == originalres(s1[i:ip:],s2[j:mid:])\n",
        "    assert suffix == originalres(s1[i:ip:][::-1],s2[mid:jp:][::-1])\n",
        "    assert len(prefix) == len(suffix)\n",
        "    maxidx = -1\n",
        "    maxweight = -1\n",
        "    for idx in range(len(prefix)):\n",
        "        weight = prefix[idx] + suffix[-idx-1]\n",
        "        if maxidx == -1 or maxweight <= weight:\n",
        "            maxidx = idx\n",
        "            maxweight = weight\n",
        "    res.append((maxidx+i, mid))\n",
        "    hirschbergrecur(s1,s2,i,j,maxidx+i,mid,res)\n",
        "    hirschbergrecur(s1,s2,maxidx+i,mid,ip,jp,res)\n"
      ],
      "execution_count": 5,
      "outputs": []
    },
    {
      "cell_type": "code",
      "metadata": {
        "colab": {
          "base_uri": "https://localhost:8080/"
        },
        "id": "buB0iKgtqtYo",
        "outputId": "dd56c9ca-86c8-4b4c-a1b5-79d0e05d3bf9"
      },
      "source": [
        "def hirschberg(s1,s2):\n",
        "    res = []\n",
        "    len1 = len(s1)\n",
        "    len2 = len(s2)\n",
        "    hirschbergrecur(s1,s2,0,0,len1,len2,res)\n",
        "    res = list(set(res))\n",
        "    res.sort(key=lambda x: (x[0],x[1]))\n",
        "    return res\n",
        "\n",
        "print(hirschberg('CT', 'GCAT'))"
      ],
      "execution_count": 6,
      "outputs": [
        {
          "output_type": "stream",
          "text": [
            "[(0, 0), (0, 1), (1, 2), (1, 3), (2, 4)]\n"
          ],
          "name": "stdout"
        }
      ]
    },
    {
      "cell_type": "code",
      "metadata": {
        "colab": {
          "base_uri": "https://localhost:8080/"
        },
        "id": "UfStF-mJqvPs",
        "outputId": "4fa561df-d4a8-4c99-d54d-7584f7be43fc"
      },
      "source": [
        "print(hirschberg(sequence_1, sequence_2))"
      ],
      "execution_count": 7,
      "outputs": [
        {
          "output_type": "stream",
          "text": [
            "[(0, 0), (1, 1), (2, 2), (2, 3), (4, 4), (5, 5), (6, 6), (7, 7)]\n"
          ],
          "name": "stdout"
        }
      ]
    },
    {
      "cell_type": "markdown",
      "metadata": {
        "id": "U_vFc9-wkTtJ"
      },
      "source": [
        "# Reconstruct the path"
      ]
    },
    {
      "cell_type": "code",
      "metadata": {
        "id": "Z58t-UAPlC-U",
        "colab": {
          "base_uri": "https://localhost:8080/"
        },
        "outputId": "2661b34f-c324-46e9-b751-38d0e12c8365"
      },
      "source": [
        "def reconstruct_path(s1, s2, cells):\n",
        "  len1 = len(s1)\n",
        "  len2 = len(s2)\n",
        "  dp = [[0 for j in range(len1 + 1)] for i in range(2)]\n",
        "  curridx = 0\n",
        "  for i in range(len2 + 1):\n",
        "      for j in range(len1 + 1):\n",
        "          if i==0 and j==0:\n",
        "              dp[curridx][j]=0\n",
        "          elif i>0 and j==0:\n",
        "              dp[curridx][j]=dp[1-curridx][j]-1\n",
        "          elif i==0 and j>0:\n",
        "              dp[curridx][j]=dp[curridx][j-1]-1\n",
        "          else:\n",
        "              score = 1 if s1[j-1] == s2[i-1] else -1\n",
        "              dp[curridx][j] = max(dp[1-curridx][j]-1,max(dp[curridx][j-1]-1,dp[1-curridx][j-1]+score))\n",
        "      curridx = 1-curridx\n",
        "      \n",
        "      left = curridx\n",
        "      right = 1 - curridx\n",
        "      \n",
        "      # fill in missing cells\n",
        "      if i > 0 and cells[i][0] - cells[i - 1][0] > 1:\n",
        "        start_cell = cells[i - 1]\n",
        "        start_row, start_col = start_cell\n",
        "\n",
        "        end_cell = cells[i]\n",
        "        end_row, end_col = end_cell\n",
        "        \n",
        "        stack = []\n",
        "        stack.append(start_cell)\n",
        "        bt = {}\n",
        "        \n",
        "        # shortest path from start cell to end cell given constraint\n",
        "        while True:\n",
        "          current_cell = stack.pop()\n",
        "          cell_row, cell_col = current_cell\n",
        "\n",
        "          if current_cell == end_cell:\n",
        "            break\n",
        "\n",
        "          # go right\n",
        "          if cell_col < end_col and dp[left][cell_row] - 1 == dp[right][cell_row]:\n",
        "            next_cell = (cell_row, cell_col + 1)\n",
        "            stack.append(next_cell)\n",
        "            bt[next_cell] = current_cell\n",
        "            \n",
        "          # go down\n",
        "          column = right if cell_col == end_col else left\n",
        "          if cell_row < end_row and dp[column][cell_row] - 1 == dp[column][cell_row + 1]:\n",
        "            next_cell = (cell_row + 1, cell_col)\n",
        "            stack.append(next_cell)\n",
        "            bt[next_cell] = current_cell\n",
        "            \n",
        "          # go diagonal - match\n",
        "          if cell_row < end_row and cell_col < end_col and s1[cell_row] == s2[cell_col] and dp[left][cell_row] + 1 == dp[right][cell_row + 1]:\n",
        "            new_cell = (cell_row + 1, cell_col + 1)\n",
        "            stack.append(new_cell)\n",
        "            bt[new_cell] = current_cell\n",
        "            \n",
        "          # go diagonal - mismatch\n",
        "          if cell_row < end_row and cell_col < end_col and s1[cell_row] != s2[cell_col] and dp[left][cell_row] - 1 == dp[right][cell_row + 1]:\n",
        "            new_cell = (cell_row + 1, cell_col + 1)\n",
        "            stack.append(new_cell)\n",
        "            bt[new_cell] = current_cell\n",
        "            \n",
        "        # backtrace\n",
        "        current_cell = bt[end_cell]\n",
        "        while current_cell != start_cell:\n",
        "          cells.append(current_cell)\n",
        "          current_cell = bt[current_cell]\n",
        "\n",
        "  return sorted(cells)\n",
        "\n",
        "reconstruct_path(sequence_1, sequence_2, hirschberg(sequence_1, sequence_2))"
      ],
      "execution_count": 8,
      "outputs": [
        {
          "output_type": "execute_result",
          "data": {
            "text/plain": [
              "[(0, 0), (1, 1), (2, 2), (2, 3), (3, 4), (4, 4), (5, 5), (6, 6), (7, 7)]"
            ]
          },
          "metadata": {
            "tags": []
          },
          "execution_count": 8
        }
      ]
    },
    {
      "cell_type": "markdown",
      "metadata": {
        "id": "eH1zuWkXj9-y"
      },
      "source": [
        "# Simple Visualization"
      ]
    },
    {
      "cell_type": "code",
      "metadata": {
        "id": "yW7dZ_Z8NNf2"
      },
      "source": [
        "def originalres_whole_table(s1,s2): # temp function just for displaying\n",
        "    len1 = len(s1)\n",
        "    len2 = len(s2)\n",
        "    dp = [[0 for j in range(len1 + 1)] for i in range(len2 + 1)]\n",
        "    for i in range(len2 + 1):\n",
        "        for j in range(len1 + 1):\n",
        "            if i==0 and j==0:\n",
        "                dp[i][j]=0\n",
        "            elif i>0 and j==0:\n",
        "                dp[i][j]=dp[i-1][j]-1\n",
        "            elif i==0 and j>0:\n",
        "                dp[i][j]=dp[i][j-1]-1\n",
        "            else:\n",
        "                score = 1 if s1[j-1]==s2[i-1] else -1\n",
        "                dp[i][j] = max(dp[i-1][j]-1,max(dp[i][j-1]-1,dp[i-1][j-1]+score))\n",
        "    return dp"
      ],
      "execution_count": 9,
      "outputs": []
    },
    {
      "cell_type": "code",
      "metadata": {
        "id": "6H7CtCSy3pTk"
      },
      "source": [
        "from IPython.display import HTML\n",
        "\n",
        "def get_html_string(s1, s2, cells=None, title=\"\"):\n",
        "  if cells is None:\n",
        "    result = reconstruct_path(s1, s2, hirschberg(s1, s2))\n",
        "  else:\n",
        "    result = cells\n",
        "  dp = originalres_whole_table(s2, s1)\n",
        "  s1 = \"-\" + s1\n",
        "  s2 = \"-\" + s2\n",
        "  \n",
        "  table_str = \"<h3>{}</h3>\".format(title)\n",
        "  for row in range(len(s1) + 1):\n",
        "    if row == 0:\n",
        "      table_str += \"\"\"\n",
        "        <tr>\n",
        "        <td><td>\n",
        "        {}\n",
        "        </tr>\n",
        "      \"\"\".format(\n",
        "          \"\\n\".join([\"<td style='width: 50px; height: 50px; text-align: center'>{}<td>\".format(c) for c in s2])\n",
        "      )\n",
        "    else:\n",
        "      table_str += \"\"\"\n",
        "        <tr>\n",
        "        <td style='width: 50px; height: 50px; text-align: center'>{1}<td>\n",
        "        {0}\n",
        "        </tr>\n",
        "      \"\"\".format(\n",
        "          \"\\n\".join([\"<td style='width: 50px; height: 50px; text-align: center{highlight}'>{}<td>\".format(dp[row - 1][col], \n",
        "                                    highlight=\"; background-color: yellow\" if (row - 1, col) in result else \"\") for col, c in enumerate(s2)]), \n",
        "          s1[row - 1]\n",
        "        )\n",
        "\n",
        "\n",
        "  html_str = \"\"\"\n",
        "  <table style=\"font-size: 15px\">\n",
        "  {}\n",
        "  </table>\n",
        "  \"\"\".format(table_str)\n",
        "  \n",
        "  # print(result)\n",
        "  return html_str\n"
      ],
      "execution_count": 10,
      "outputs": []
    },
    {
      "cell_type": "code",
      "metadata": {
        "id": "2OrRN8aRmu83",
        "colab": {
          "base_uri": "https://localhost:8080/",
          "height": 251
        },
        "outputId": "398dff62-fa0e-4ea4-dfe3-b702a55896dc"
      },
      "source": [
        "HTML(get_html_string('CT', 'GCAT'))"
      ],
      "execution_count": 11,
      "outputs": [
        {
          "output_type": "execute_result",
          "data": {
            "text/html": [
              "\n",
              "  <table style=\"font-size: 15px\">\n",
              "  <h3></h3>\n",
              "        <tr>\n",
              "        <td><td>\n",
              "        <td style='width: 50px; height: 50px; text-align: center'>-<td>\n",
              "<td style='width: 50px; height: 50px; text-align: center'>G<td>\n",
              "<td style='width: 50px; height: 50px; text-align: center'>C<td>\n",
              "<td style='width: 50px; height: 50px; text-align: center'>A<td>\n",
              "<td style='width: 50px; height: 50px; text-align: center'>T<td>\n",
              "        </tr>\n",
              "      \n",
              "        <tr>\n",
              "        <td style='width: 50px; height: 50px; text-align: center'>-<td>\n",
              "        <td style='width: 50px; height: 50px; text-align: center; background-color: yellow'>0<td>\n",
              "<td style='width: 50px; height: 50px; text-align: center; background-color: yellow'>-1<td>\n",
              "<td style='width: 50px; height: 50px; text-align: center'>-2<td>\n",
              "<td style='width: 50px; height: 50px; text-align: center'>-3<td>\n",
              "<td style='width: 50px; height: 50px; text-align: center'>-4<td>\n",
              "        </tr>\n",
              "      \n",
              "        <tr>\n",
              "        <td style='width: 50px; height: 50px; text-align: center'>C<td>\n",
              "        <td style='width: 50px; height: 50px; text-align: center'>-1<td>\n",
              "<td style='width: 50px; height: 50px; text-align: center'>-1<td>\n",
              "<td style='width: 50px; height: 50px; text-align: center; background-color: yellow'>0<td>\n",
              "<td style='width: 50px; height: 50px; text-align: center; background-color: yellow'>-1<td>\n",
              "<td style='width: 50px; height: 50px; text-align: center'>-2<td>\n",
              "        </tr>\n",
              "      \n",
              "        <tr>\n",
              "        <td style='width: 50px; height: 50px; text-align: center'>T<td>\n",
              "        <td style='width: 50px; height: 50px; text-align: center'>-2<td>\n",
              "<td style='width: 50px; height: 50px; text-align: center'>-2<td>\n",
              "<td style='width: 50px; height: 50px; text-align: center'>-1<td>\n",
              "<td style='width: 50px; height: 50px; text-align: center'>-1<td>\n",
              "<td style='width: 50px; height: 50px; text-align: center; background-color: yellow'>0<td>\n",
              "        </tr>\n",
              "      \n",
              "  </table>\n",
              "  "
            ],
            "text/plain": [
              "<IPython.core.display.HTML object>"
            ]
          },
          "metadata": {
            "tags": []
          },
          "execution_count": 11
        }
      ]
    },
    {
      "cell_type": "code",
      "metadata": {
        "colab": {
          "base_uri": "https://localhost:8080/",
          "height": 545
        },
        "id": "5_F4ynhLk3wX",
        "outputId": "726193e5-3ed1-4b5d-ce9f-2b1a97f4d730"
      },
      "source": [
        "HTML(get_html_string(sequence_1, sequence_2, hirschberg(sequence_1, sequence_2), title=\"Reported cells\"))"
      ],
      "execution_count": 12,
      "outputs": [
        {
          "output_type": "execute_result",
          "data": {
            "text/html": [
              "\n",
              "  <table style=\"font-size: 15px\">\n",
              "  <h3>Reported cells</h3>\n",
              "        <tr>\n",
              "        <td><td>\n",
              "        <td style='width: 50px; height: 50px; text-align: center'>-<td>\n",
              "<td style='width: 50px; height: 50px; text-align: center'>A<td>\n",
              "<td style='width: 50px; height: 50px; text-align: center'>T<td>\n",
              "<td style='width: 50px; height: 50px; text-align: center'>C<td>\n",
              "<td style='width: 50px; height: 50px; text-align: center'>G<td>\n",
              "<td style='width: 50px; height: 50px; text-align: center'>T<td>\n",
              "<td style='width: 50px; height: 50px; text-align: center'>A<td>\n",
              "<td style='width: 50px; height: 50px; text-align: center'>C<td>\n",
              "        </tr>\n",
              "      \n",
              "        <tr>\n",
              "        <td style='width: 50px; height: 50px; text-align: center'>-<td>\n",
              "        <td style='width: 50px; height: 50px; text-align: center; background-color: yellow'>0<td>\n",
              "<td style='width: 50px; height: 50px; text-align: center'>-1<td>\n",
              "<td style='width: 50px; height: 50px; text-align: center'>-2<td>\n",
              "<td style='width: 50px; height: 50px; text-align: center'>-3<td>\n",
              "<td style='width: 50px; height: 50px; text-align: center'>-4<td>\n",
              "<td style='width: 50px; height: 50px; text-align: center'>-5<td>\n",
              "<td style='width: 50px; height: 50px; text-align: center'>-6<td>\n",
              "<td style='width: 50px; height: 50px; text-align: center'>-7<td>\n",
              "        </tr>\n",
              "      \n",
              "        <tr>\n",
              "        <td style='width: 50px; height: 50px; text-align: center'>A<td>\n",
              "        <td style='width: 50px; height: 50px; text-align: center'>-1<td>\n",
              "<td style='width: 50px; height: 50px; text-align: center; background-color: yellow'>1<td>\n",
              "<td style='width: 50px; height: 50px; text-align: center'>0<td>\n",
              "<td style='width: 50px; height: 50px; text-align: center'>-1<td>\n",
              "<td style='width: 50px; height: 50px; text-align: center'>-2<td>\n",
              "<td style='width: 50px; height: 50px; text-align: center'>-3<td>\n",
              "<td style='width: 50px; height: 50px; text-align: center'>-4<td>\n",
              "<td style='width: 50px; height: 50px; text-align: center'>-5<td>\n",
              "        </tr>\n",
              "      \n",
              "        <tr>\n",
              "        <td style='width: 50px; height: 50px; text-align: center'>T<td>\n",
              "        <td style='width: 50px; height: 50px; text-align: center'>-2<td>\n",
              "<td style='width: 50px; height: 50px; text-align: center'>0<td>\n",
              "<td style='width: 50px; height: 50px; text-align: center; background-color: yellow'>2<td>\n",
              "<td style='width: 50px; height: 50px; text-align: center; background-color: yellow'>1<td>\n",
              "<td style='width: 50px; height: 50px; text-align: center'>0<td>\n",
              "<td style='width: 50px; height: 50px; text-align: center'>-1<td>\n",
              "<td style='width: 50px; height: 50px; text-align: center'>-2<td>\n",
              "<td style='width: 50px; height: 50px; text-align: center'>-3<td>\n",
              "        </tr>\n",
              "      \n",
              "        <tr>\n",
              "        <td style='width: 50px; height: 50px; text-align: center'>G<td>\n",
              "        <td style='width: 50px; height: 50px; text-align: center'>-3<td>\n",
              "<td style='width: 50px; height: 50px; text-align: center'>-1<td>\n",
              "<td style='width: 50px; height: 50px; text-align: center'>1<td>\n",
              "<td style='width: 50px; height: 50px; text-align: center'>1<td>\n",
              "<td style='width: 50px; height: 50px; text-align: center'>2<td>\n",
              "<td style='width: 50px; height: 50px; text-align: center'>1<td>\n",
              "<td style='width: 50px; height: 50px; text-align: center'>0<td>\n",
              "<td style='width: 50px; height: 50px; text-align: center'>-1<td>\n",
              "        </tr>\n",
              "      \n",
              "        <tr>\n",
              "        <td style='width: 50px; height: 50px; text-align: center'>T<td>\n",
              "        <td style='width: 50px; height: 50px; text-align: center'>-4<td>\n",
              "<td style='width: 50px; height: 50px; text-align: center'>-2<td>\n",
              "<td style='width: 50px; height: 50px; text-align: center'>0<td>\n",
              "<td style='width: 50px; height: 50px; text-align: center'>0<td>\n",
              "<td style='width: 50px; height: 50px; text-align: center; background-color: yellow'>1<td>\n",
              "<td style='width: 50px; height: 50px; text-align: center'>3<td>\n",
              "<td style='width: 50px; height: 50px; text-align: center'>2<td>\n",
              "<td style='width: 50px; height: 50px; text-align: center'>1<td>\n",
              "        </tr>\n",
              "      \n",
              "        <tr>\n",
              "        <td style='width: 50px; height: 50px; text-align: center'>T<td>\n",
              "        <td style='width: 50px; height: 50px; text-align: center'>-5<td>\n",
              "<td style='width: 50px; height: 50px; text-align: center'>-3<td>\n",
              "<td style='width: 50px; height: 50px; text-align: center'>-1<td>\n",
              "<td style='width: 50px; height: 50px; text-align: center'>-1<td>\n",
              "<td style='width: 50px; height: 50px; text-align: center'>0<td>\n",
              "<td style='width: 50px; height: 50px; text-align: center; background-color: yellow'>2<td>\n",
              "<td style='width: 50px; height: 50px; text-align: center'>2<td>\n",
              "<td style='width: 50px; height: 50px; text-align: center'>1<td>\n",
              "        </tr>\n",
              "      \n",
              "        <tr>\n",
              "        <td style='width: 50px; height: 50px; text-align: center'>A<td>\n",
              "        <td style='width: 50px; height: 50px; text-align: center'>-6<td>\n",
              "<td style='width: 50px; height: 50px; text-align: center'>-4<td>\n",
              "<td style='width: 50px; height: 50px; text-align: center'>-2<td>\n",
              "<td style='width: 50px; height: 50px; text-align: center'>-2<td>\n",
              "<td style='width: 50px; height: 50px; text-align: center'>-1<td>\n",
              "<td style='width: 50px; height: 50px; text-align: center'>1<td>\n",
              "<td style='width: 50px; height: 50px; text-align: center; background-color: yellow'>3<td>\n",
              "<td style='width: 50px; height: 50px; text-align: center'>2<td>\n",
              "        </tr>\n",
              "      \n",
              "        <tr>\n",
              "        <td style='width: 50px; height: 50px; text-align: center'>T<td>\n",
              "        <td style='width: 50px; height: 50px; text-align: center'>-7<td>\n",
              "<td style='width: 50px; height: 50px; text-align: center'>-5<td>\n",
              "<td style='width: 50px; height: 50px; text-align: center'>-3<td>\n",
              "<td style='width: 50px; height: 50px; text-align: center'>-3<td>\n",
              "<td style='width: 50px; height: 50px; text-align: center'>-2<td>\n",
              "<td style='width: 50px; height: 50px; text-align: center'>0<td>\n",
              "<td style='width: 50px; height: 50px; text-align: center'>2<td>\n",
              "<td style='width: 50px; height: 50px; text-align: center; background-color: yellow'>2<td>\n",
              "        </tr>\n",
              "      \n",
              "  </table>\n",
              "  "
            ],
            "text/plain": [
              "<IPython.core.display.HTML object>"
            ]
          },
          "metadata": {
            "tags": []
          },
          "execution_count": 12
        }
      ]
    },
    {
      "cell_type": "code",
      "metadata": {
        "colab": {
          "base_uri": "https://localhost:8080/",
          "height": 545
        },
        "id": "4LvX5f8Jrv6G",
        "outputId": "6de7916d-f061-40c2-d2cf-1a1194e057f7"
      },
      "source": [
        "path = reconstruct_path(sequence_1, sequence_2, hirschberg(sequence_1, sequence_2))\r\n",
        "HTML(get_html_string(sequence_1, sequence_2, path, title=\"Reconstructed path\"))"
      ],
      "execution_count": 13,
      "outputs": [
        {
          "output_type": "execute_result",
          "data": {
            "text/html": [
              "\n",
              "  <table style=\"font-size: 15px\">\n",
              "  <h3>Reconstructed path</h3>\n",
              "        <tr>\n",
              "        <td><td>\n",
              "        <td style='width: 50px; height: 50px; text-align: center'>-<td>\n",
              "<td style='width: 50px; height: 50px; text-align: center'>A<td>\n",
              "<td style='width: 50px; height: 50px; text-align: center'>T<td>\n",
              "<td style='width: 50px; height: 50px; text-align: center'>C<td>\n",
              "<td style='width: 50px; height: 50px; text-align: center'>G<td>\n",
              "<td style='width: 50px; height: 50px; text-align: center'>T<td>\n",
              "<td style='width: 50px; height: 50px; text-align: center'>A<td>\n",
              "<td style='width: 50px; height: 50px; text-align: center'>C<td>\n",
              "        </tr>\n",
              "      \n",
              "        <tr>\n",
              "        <td style='width: 50px; height: 50px; text-align: center'>-<td>\n",
              "        <td style='width: 50px; height: 50px; text-align: center; background-color: yellow'>0<td>\n",
              "<td style='width: 50px; height: 50px; text-align: center'>-1<td>\n",
              "<td style='width: 50px; height: 50px; text-align: center'>-2<td>\n",
              "<td style='width: 50px; height: 50px; text-align: center'>-3<td>\n",
              "<td style='width: 50px; height: 50px; text-align: center'>-4<td>\n",
              "<td style='width: 50px; height: 50px; text-align: center'>-5<td>\n",
              "<td style='width: 50px; height: 50px; text-align: center'>-6<td>\n",
              "<td style='width: 50px; height: 50px; text-align: center'>-7<td>\n",
              "        </tr>\n",
              "      \n",
              "        <tr>\n",
              "        <td style='width: 50px; height: 50px; text-align: center'>A<td>\n",
              "        <td style='width: 50px; height: 50px; text-align: center'>-1<td>\n",
              "<td style='width: 50px; height: 50px; text-align: center; background-color: yellow'>1<td>\n",
              "<td style='width: 50px; height: 50px; text-align: center'>0<td>\n",
              "<td style='width: 50px; height: 50px; text-align: center'>-1<td>\n",
              "<td style='width: 50px; height: 50px; text-align: center'>-2<td>\n",
              "<td style='width: 50px; height: 50px; text-align: center'>-3<td>\n",
              "<td style='width: 50px; height: 50px; text-align: center'>-4<td>\n",
              "<td style='width: 50px; height: 50px; text-align: center'>-5<td>\n",
              "        </tr>\n",
              "      \n",
              "        <tr>\n",
              "        <td style='width: 50px; height: 50px; text-align: center'>T<td>\n",
              "        <td style='width: 50px; height: 50px; text-align: center'>-2<td>\n",
              "<td style='width: 50px; height: 50px; text-align: center'>0<td>\n",
              "<td style='width: 50px; height: 50px; text-align: center; background-color: yellow'>2<td>\n",
              "<td style='width: 50px; height: 50px; text-align: center; background-color: yellow'>1<td>\n",
              "<td style='width: 50px; height: 50px; text-align: center'>0<td>\n",
              "<td style='width: 50px; height: 50px; text-align: center'>-1<td>\n",
              "<td style='width: 50px; height: 50px; text-align: center'>-2<td>\n",
              "<td style='width: 50px; height: 50px; text-align: center'>-3<td>\n",
              "        </tr>\n",
              "      \n",
              "        <tr>\n",
              "        <td style='width: 50px; height: 50px; text-align: center'>G<td>\n",
              "        <td style='width: 50px; height: 50px; text-align: center'>-3<td>\n",
              "<td style='width: 50px; height: 50px; text-align: center'>-1<td>\n",
              "<td style='width: 50px; height: 50px; text-align: center'>1<td>\n",
              "<td style='width: 50px; height: 50px; text-align: center'>1<td>\n",
              "<td style='width: 50px; height: 50px; text-align: center; background-color: yellow'>2<td>\n",
              "<td style='width: 50px; height: 50px; text-align: center'>1<td>\n",
              "<td style='width: 50px; height: 50px; text-align: center'>0<td>\n",
              "<td style='width: 50px; height: 50px; text-align: center'>-1<td>\n",
              "        </tr>\n",
              "      \n",
              "        <tr>\n",
              "        <td style='width: 50px; height: 50px; text-align: center'>T<td>\n",
              "        <td style='width: 50px; height: 50px; text-align: center'>-4<td>\n",
              "<td style='width: 50px; height: 50px; text-align: center'>-2<td>\n",
              "<td style='width: 50px; height: 50px; text-align: center'>0<td>\n",
              "<td style='width: 50px; height: 50px; text-align: center'>0<td>\n",
              "<td style='width: 50px; height: 50px; text-align: center; background-color: yellow'>1<td>\n",
              "<td style='width: 50px; height: 50px; text-align: center'>3<td>\n",
              "<td style='width: 50px; height: 50px; text-align: center'>2<td>\n",
              "<td style='width: 50px; height: 50px; text-align: center'>1<td>\n",
              "        </tr>\n",
              "      \n",
              "        <tr>\n",
              "        <td style='width: 50px; height: 50px; text-align: center'>T<td>\n",
              "        <td style='width: 50px; height: 50px; text-align: center'>-5<td>\n",
              "<td style='width: 50px; height: 50px; text-align: center'>-3<td>\n",
              "<td style='width: 50px; height: 50px; text-align: center'>-1<td>\n",
              "<td style='width: 50px; height: 50px; text-align: center'>-1<td>\n",
              "<td style='width: 50px; height: 50px; text-align: center'>0<td>\n",
              "<td style='width: 50px; height: 50px; text-align: center; background-color: yellow'>2<td>\n",
              "<td style='width: 50px; height: 50px; text-align: center'>2<td>\n",
              "<td style='width: 50px; height: 50px; text-align: center'>1<td>\n",
              "        </tr>\n",
              "      \n",
              "        <tr>\n",
              "        <td style='width: 50px; height: 50px; text-align: center'>A<td>\n",
              "        <td style='width: 50px; height: 50px; text-align: center'>-6<td>\n",
              "<td style='width: 50px; height: 50px; text-align: center'>-4<td>\n",
              "<td style='width: 50px; height: 50px; text-align: center'>-2<td>\n",
              "<td style='width: 50px; height: 50px; text-align: center'>-2<td>\n",
              "<td style='width: 50px; height: 50px; text-align: center'>-1<td>\n",
              "<td style='width: 50px; height: 50px; text-align: center'>1<td>\n",
              "<td style='width: 50px; height: 50px; text-align: center; background-color: yellow'>3<td>\n",
              "<td style='width: 50px; height: 50px; text-align: center'>2<td>\n",
              "        </tr>\n",
              "      \n",
              "        <tr>\n",
              "        <td style='width: 50px; height: 50px; text-align: center'>T<td>\n",
              "        <td style='width: 50px; height: 50px; text-align: center'>-7<td>\n",
              "<td style='width: 50px; height: 50px; text-align: center'>-5<td>\n",
              "<td style='width: 50px; height: 50px; text-align: center'>-3<td>\n",
              "<td style='width: 50px; height: 50px; text-align: center'>-3<td>\n",
              "<td style='width: 50px; height: 50px; text-align: center'>-2<td>\n",
              "<td style='width: 50px; height: 50px; text-align: center'>0<td>\n",
              "<td style='width: 50px; height: 50px; text-align: center'>2<td>\n",
              "<td style='width: 50px; height: 50px; text-align: center; background-color: yellow'>2<td>\n",
              "        </tr>\n",
              "      \n",
              "  </table>\n",
              "  "
            ],
            "text/plain": [
              "<IPython.core.display.HTML object>"
            ]
          },
          "metadata": {
            "tags": []
          },
          "execution_count": 13
        }
      ]
    },
    {
      "cell_type": "markdown",
      "metadata": {
        "id": "rEzkM3ThUZuC"
      },
      "source": [
        "# Correctness Validaton"
      ]
    },
    {
      "cell_type": "code",
      "metadata": {
        "colab": {
          "base_uri": "https://localhost:8080/",
          "height": 545
        },
        "id": "qaEO7LDmUfBN",
        "outputId": "fd990eb7-e0dd-41c1-bce8-b0fd8a328436"
      },
      "source": [
        "path = [(t1, t0) for t0, t1 in originalscore(sequence_1, sequence_2)]\r\n",
        "HTML(get_html_string(sequence_1, sequence_2, path, title='Global Sequence Alignment'))"
      ],
      "execution_count": 14,
      "outputs": [
        {
          "output_type": "execute_result",
          "data": {
            "text/html": [
              "\n",
              "  <table style=\"font-size: 15px\">\n",
              "  <h3>Global Sequence Alignment</h3>\n",
              "        <tr>\n",
              "        <td><td>\n",
              "        <td style='width: 50px; height: 50px; text-align: center'>-<td>\n",
              "<td style='width: 50px; height: 50px; text-align: center'>A<td>\n",
              "<td style='width: 50px; height: 50px; text-align: center'>T<td>\n",
              "<td style='width: 50px; height: 50px; text-align: center'>C<td>\n",
              "<td style='width: 50px; height: 50px; text-align: center'>G<td>\n",
              "<td style='width: 50px; height: 50px; text-align: center'>T<td>\n",
              "<td style='width: 50px; height: 50px; text-align: center'>A<td>\n",
              "<td style='width: 50px; height: 50px; text-align: center'>C<td>\n",
              "        </tr>\n",
              "      \n",
              "        <tr>\n",
              "        <td style='width: 50px; height: 50px; text-align: center'>-<td>\n",
              "        <td style='width: 50px; height: 50px; text-align: center; background-color: yellow'>0<td>\n",
              "<td style='width: 50px; height: 50px; text-align: center'>-1<td>\n",
              "<td style='width: 50px; height: 50px; text-align: center'>-2<td>\n",
              "<td style='width: 50px; height: 50px; text-align: center'>-3<td>\n",
              "<td style='width: 50px; height: 50px; text-align: center'>-4<td>\n",
              "<td style='width: 50px; height: 50px; text-align: center'>-5<td>\n",
              "<td style='width: 50px; height: 50px; text-align: center'>-6<td>\n",
              "<td style='width: 50px; height: 50px; text-align: center'>-7<td>\n",
              "        </tr>\n",
              "      \n",
              "        <tr>\n",
              "        <td style='width: 50px; height: 50px; text-align: center'>A<td>\n",
              "        <td style='width: 50px; height: 50px; text-align: center'>-1<td>\n",
              "<td style='width: 50px; height: 50px; text-align: center; background-color: yellow'>1<td>\n",
              "<td style='width: 50px; height: 50px; text-align: center'>0<td>\n",
              "<td style='width: 50px; height: 50px; text-align: center'>-1<td>\n",
              "<td style='width: 50px; height: 50px; text-align: center'>-2<td>\n",
              "<td style='width: 50px; height: 50px; text-align: center'>-3<td>\n",
              "<td style='width: 50px; height: 50px; text-align: center'>-4<td>\n",
              "<td style='width: 50px; height: 50px; text-align: center'>-5<td>\n",
              "        </tr>\n",
              "      \n",
              "        <tr>\n",
              "        <td style='width: 50px; height: 50px; text-align: center'>T<td>\n",
              "        <td style='width: 50px; height: 50px; text-align: center'>-2<td>\n",
              "<td style='width: 50px; height: 50px; text-align: center'>0<td>\n",
              "<td style='width: 50px; height: 50px; text-align: center; background-color: yellow'>2<td>\n",
              "<td style='width: 50px; height: 50px; text-align: center; background-color: yellow'>1<td>\n",
              "<td style='width: 50px; height: 50px; text-align: center'>0<td>\n",
              "<td style='width: 50px; height: 50px; text-align: center'>-1<td>\n",
              "<td style='width: 50px; height: 50px; text-align: center'>-2<td>\n",
              "<td style='width: 50px; height: 50px; text-align: center'>-3<td>\n",
              "        </tr>\n",
              "      \n",
              "        <tr>\n",
              "        <td style='width: 50px; height: 50px; text-align: center'>G<td>\n",
              "        <td style='width: 50px; height: 50px; text-align: center'>-3<td>\n",
              "<td style='width: 50px; height: 50px; text-align: center'>-1<td>\n",
              "<td style='width: 50px; height: 50px; text-align: center'>1<td>\n",
              "<td style='width: 50px; height: 50px; text-align: center'>1<td>\n",
              "<td style='width: 50px; height: 50px; text-align: center; background-color: yellow'>2<td>\n",
              "<td style='width: 50px; height: 50px; text-align: center'>1<td>\n",
              "<td style='width: 50px; height: 50px; text-align: center'>0<td>\n",
              "<td style='width: 50px; height: 50px; text-align: center'>-1<td>\n",
              "        </tr>\n",
              "      \n",
              "        <tr>\n",
              "        <td style='width: 50px; height: 50px; text-align: center'>T<td>\n",
              "        <td style='width: 50px; height: 50px; text-align: center'>-4<td>\n",
              "<td style='width: 50px; height: 50px; text-align: center'>-2<td>\n",
              "<td style='width: 50px; height: 50px; text-align: center'>0<td>\n",
              "<td style='width: 50px; height: 50px; text-align: center'>0<td>\n",
              "<td style='width: 50px; height: 50px; text-align: center'>1<td>\n",
              "<td style='width: 50px; height: 50px; text-align: center; background-color: yellow'>3<td>\n",
              "<td style='width: 50px; height: 50px; text-align: center'>2<td>\n",
              "<td style='width: 50px; height: 50px; text-align: center'>1<td>\n",
              "        </tr>\n",
              "      \n",
              "        <tr>\n",
              "        <td style='width: 50px; height: 50px; text-align: center'>T<td>\n",
              "        <td style='width: 50px; height: 50px; text-align: center'>-5<td>\n",
              "<td style='width: 50px; height: 50px; text-align: center'>-3<td>\n",
              "<td style='width: 50px; height: 50px; text-align: center'>-1<td>\n",
              "<td style='width: 50px; height: 50px; text-align: center'>-1<td>\n",
              "<td style='width: 50px; height: 50px; text-align: center'>0<td>\n",
              "<td style='width: 50px; height: 50px; text-align: center; background-color: yellow'>2<td>\n",
              "<td style='width: 50px; height: 50px; text-align: center'>2<td>\n",
              "<td style='width: 50px; height: 50px; text-align: center'>1<td>\n",
              "        </tr>\n",
              "      \n",
              "        <tr>\n",
              "        <td style='width: 50px; height: 50px; text-align: center'>A<td>\n",
              "        <td style='width: 50px; height: 50px; text-align: center'>-6<td>\n",
              "<td style='width: 50px; height: 50px; text-align: center'>-4<td>\n",
              "<td style='width: 50px; height: 50px; text-align: center'>-2<td>\n",
              "<td style='width: 50px; height: 50px; text-align: center'>-2<td>\n",
              "<td style='width: 50px; height: 50px; text-align: center'>-1<td>\n",
              "<td style='width: 50px; height: 50px; text-align: center'>1<td>\n",
              "<td style='width: 50px; height: 50px; text-align: center; background-color: yellow'>3<td>\n",
              "<td style='width: 50px; height: 50px; text-align: center'>2<td>\n",
              "        </tr>\n",
              "      \n",
              "        <tr>\n",
              "        <td style='width: 50px; height: 50px; text-align: center'>T<td>\n",
              "        <td style='width: 50px; height: 50px; text-align: center'>-7<td>\n",
              "<td style='width: 50px; height: 50px; text-align: center'>-5<td>\n",
              "<td style='width: 50px; height: 50px; text-align: center'>-3<td>\n",
              "<td style='width: 50px; height: 50px; text-align: center'>-3<td>\n",
              "<td style='width: 50px; height: 50px; text-align: center'>-2<td>\n",
              "<td style='width: 50px; height: 50px; text-align: center'>0<td>\n",
              "<td style='width: 50px; height: 50px; text-align: center'>2<td>\n",
              "<td style='width: 50px; height: 50px; text-align: center; background-color: yellow'>2<td>\n",
              "        </tr>\n",
              "      \n",
              "  </table>\n",
              "  "
            ],
            "text/plain": [
              "<IPython.core.display.HTML object>"
            ]
          },
          "metadata": {
            "tags": []
          },
          "execution_count": 14
        }
      ]
    },
    {
      "cell_type": "code",
      "metadata": {
        "colab": {
          "base_uri": "https://localhost:8080/",
          "height": 545
        },
        "id": "Z2f10lgNVYQs",
        "outputId": "ab233792-8511-4b29-d725-55eb8a782cbe"
      },
      "source": [
        "path = reconstruct_path(sequence_1, sequence_2, hirschberg(sequence_1, sequence_2))\r\n",
        "HTML(get_html_string(sequence_1, sequence_2, path, title='Linear Space Algorithm'))"
      ],
      "execution_count": 15,
      "outputs": [
        {
          "output_type": "execute_result",
          "data": {
            "text/html": [
              "\n",
              "  <table style=\"font-size: 15px\">\n",
              "  <h3>Linear Space Algorithm</h3>\n",
              "        <tr>\n",
              "        <td><td>\n",
              "        <td style='width: 50px; height: 50px; text-align: center'>-<td>\n",
              "<td style='width: 50px; height: 50px; text-align: center'>A<td>\n",
              "<td style='width: 50px; height: 50px; text-align: center'>T<td>\n",
              "<td style='width: 50px; height: 50px; text-align: center'>C<td>\n",
              "<td style='width: 50px; height: 50px; text-align: center'>G<td>\n",
              "<td style='width: 50px; height: 50px; text-align: center'>T<td>\n",
              "<td style='width: 50px; height: 50px; text-align: center'>A<td>\n",
              "<td style='width: 50px; height: 50px; text-align: center'>C<td>\n",
              "        </tr>\n",
              "      \n",
              "        <tr>\n",
              "        <td style='width: 50px; height: 50px; text-align: center'>-<td>\n",
              "        <td style='width: 50px; height: 50px; text-align: center; background-color: yellow'>0<td>\n",
              "<td style='width: 50px; height: 50px; text-align: center'>-1<td>\n",
              "<td style='width: 50px; height: 50px; text-align: center'>-2<td>\n",
              "<td style='width: 50px; height: 50px; text-align: center'>-3<td>\n",
              "<td style='width: 50px; height: 50px; text-align: center'>-4<td>\n",
              "<td style='width: 50px; height: 50px; text-align: center'>-5<td>\n",
              "<td style='width: 50px; height: 50px; text-align: center'>-6<td>\n",
              "<td style='width: 50px; height: 50px; text-align: center'>-7<td>\n",
              "        </tr>\n",
              "      \n",
              "        <tr>\n",
              "        <td style='width: 50px; height: 50px; text-align: center'>A<td>\n",
              "        <td style='width: 50px; height: 50px; text-align: center'>-1<td>\n",
              "<td style='width: 50px; height: 50px; text-align: center; background-color: yellow'>1<td>\n",
              "<td style='width: 50px; height: 50px; text-align: center'>0<td>\n",
              "<td style='width: 50px; height: 50px; text-align: center'>-1<td>\n",
              "<td style='width: 50px; height: 50px; text-align: center'>-2<td>\n",
              "<td style='width: 50px; height: 50px; text-align: center'>-3<td>\n",
              "<td style='width: 50px; height: 50px; text-align: center'>-4<td>\n",
              "<td style='width: 50px; height: 50px; text-align: center'>-5<td>\n",
              "        </tr>\n",
              "      \n",
              "        <tr>\n",
              "        <td style='width: 50px; height: 50px; text-align: center'>T<td>\n",
              "        <td style='width: 50px; height: 50px; text-align: center'>-2<td>\n",
              "<td style='width: 50px; height: 50px; text-align: center'>0<td>\n",
              "<td style='width: 50px; height: 50px; text-align: center; background-color: yellow'>2<td>\n",
              "<td style='width: 50px; height: 50px; text-align: center; background-color: yellow'>1<td>\n",
              "<td style='width: 50px; height: 50px; text-align: center'>0<td>\n",
              "<td style='width: 50px; height: 50px; text-align: center'>-1<td>\n",
              "<td style='width: 50px; height: 50px; text-align: center'>-2<td>\n",
              "<td style='width: 50px; height: 50px; text-align: center'>-3<td>\n",
              "        </tr>\n",
              "      \n",
              "        <tr>\n",
              "        <td style='width: 50px; height: 50px; text-align: center'>G<td>\n",
              "        <td style='width: 50px; height: 50px; text-align: center'>-3<td>\n",
              "<td style='width: 50px; height: 50px; text-align: center'>-1<td>\n",
              "<td style='width: 50px; height: 50px; text-align: center'>1<td>\n",
              "<td style='width: 50px; height: 50px; text-align: center'>1<td>\n",
              "<td style='width: 50px; height: 50px; text-align: center; background-color: yellow'>2<td>\n",
              "<td style='width: 50px; height: 50px; text-align: center'>1<td>\n",
              "<td style='width: 50px; height: 50px; text-align: center'>0<td>\n",
              "<td style='width: 50px; height: 50px; text-align: center'>-1<td>\n",
              "        </tr>\n",
              "      \n",
              "        <tr>\n",
              "        <td style='width: 50px; height: 50px; text-align: center'>T<td>\n",
              "        <td style='width: 50px; height: 50px; text-align: center'>-4<td>\n",
              "<td style='width: 50px; height: 50px; text-align: center'>-2<td>\n",
              "<td style='width: 50px; height: 50px; text-align: center'>0<td>\n",
              "<td style='width: 50px; height: 50px; text-align: center'>0<td>\n",
              "<td style='width: 50px; height: 50px; text-align: center; background-color: yellow'>1<td>\n",
              "<td style='width: 50px; height: 50px; text-align: center'>3<td>\n",
              "<td style='width: 50px; height: 50px; text-align: center'>2<td>\n",
              "<td style='width: 50px; height: 50px; text-align: center'>1<td>\n",
              "        </tr>\n",
              "      \n",
              "        <tr>\n",
              "        <td style='width: 50px; height: 50px; text-align: center'>T<td>\n",
              "        <td style='width: 50px; height: 50px; text-align: center'>-5<td>\n",
              "<td style='width: 50px; height: 50px; text-align: center'>-3<td>\n",
              "<td style='width: 50px; height: 50px; text-align: center'>-1<td>\n",
              "<td style='width: 50px; height: 50px; text-align: center'>-1<td>\n",
              "<td style='width: 50px; height: 50px; text-align: center'>0<td>\n",
              "<td style='width: 50px; height: 50px; text-align: center; background-color: yellow'>2<td>\n",
              "<td style='width: 50px; height: 50px; text-align: center'>2<td>\n",
              "<td style='width: 50px; height: 50px; text-align: center'>1<td>\n",
              "        </tr>\n",
              "      \n",
              "        <tr>\n",
              "        <td style='width: 50px; height: 50px; text-align: center'>A<td>\n",
              "        <td style='width: 50px; height: 50px; text-align: center'>-6<td>\n",
              "<td style='width: 50px; height: 50px; text-align: center'>-4<td>\n",
              "<td style='width: 50px; height: 50px; text-align: center'>-2<td>\n",
              "<td style='width: 50px; height: 50px; text-align: center'>-2<td>\n",
              "<td style='width: 50px; height: 50px; text-align: center'>-1<td>\n",
              "<td style='width: 50px; height: 50px; text-align: center'>1<td>\n",
              "<td style='width: 50px; height: 50px; text-align: center; background-color: yellow'>3<td>\n",
              "<td style='width: 50px; height: 50px; text-align: center'>2<td>\n",
              "        </tr>\n",
              "      \n",
              "        <tr>\n",
              "        <td style='width: 50px; height: 50px; text-align: center'>T<td>\n",
              "        <td style='width: 50px; height: 50px; text-align: center'>-7<td>\n",
              "<td style='width: 50px; height: 50px; text-align: center'>-5<td>\n",
              "<td style='width: 50px; height: 50px; text-align: center'>-3<td>\n",
              "<td style='width: 50px; height: 50px; text-align: center'>-3<td>\n",
              "<td style='width: 50px; height: 50px; text-align: center'>-2<td>\n",
              "<td style='width: 50px; height: 50px; text-align: center'>0<td>\n",
              "<td style='width: 50px; height: 50px; text-align: center'>2<td>\n",
              "<td style='width: 50px; height: 50px; text-align: center; background-color: yellow'>2<td>\n",
              "        </tr>\n",
              "      \n",
              "  </table>\n",
              "  "
            ],
            "text/plain": [
              "<IPython.core.display.HTML object>"
            ]
          },
          "metadata": {
            "tags": []
          },
          "execution_count": 15
        }
      ]
    },
    {
      "cell_type": "markdown",
      "metadata": {
        "id": "U6ScZf4fdaBj"
      },
      "source": [
        "## Dissimilar Pair"
      ]
    },
    {
      "cell_type": "code",
      "metadata": {
        "colab": {
          "base_uri": "https://localhost:8080/",
          "height": 491
        },
        "id": "LVpXedszdUuV",
        "outputId": "ee56093d-3c8b-4c41-a6cb-5daff5927feb"
      },
      "source": [
        "sequence_1 = 'ATGCTA'\r\n",
        "sequence_2 = 'GGTT'\r\n",
        "\r\n",
        "path = [(t1, t0) for t0, t1 in originalscore(sequence_1, sequence_2)]\r\n",
        "HTML(get_html_string(sequence_1, sequence_2, path, title='Global Sequence Alignment'))"
      ],
      "execution_count": 16,
      "outputs": [
        {
          "output_type": "execute_result",
          "data": {
            "text/html": [
              "\n",
              "  <table style=\"font-size: 15px\">\n",
              "  <h3>Global Sequence Alignment</h3>\n",
              "        <tr>\n",
              "        <td><td>\n",
              "        <td style='width: 50px; height: 50px; text-align: center'>-<td>\n",
              "<td style='width: 50px; height: 50px; text-align: center'>G<td>\n",
              "<td style='width: 50px; height: 50px; text-align: center'>G<td>\n",
              "<td style='width: 50px; height: 50px; text-align: center'>T<td>\n",
              "<td style='width: 50px; height: 50px; text-align: center'>T<td>\n",
              "        </tr>\n",
              "      \n",
              "        <tr>\n",
              "        <td style='width: 50px; height: 50px; text-align: center'>-<td>\n",
              "        <td style='width: 50px; height: 50px; text-align: center; background-color: yellow'>0<td>\n",
              "<td style='width: 50px; height: 50px; text-align: center'>-1<td>\n",
              "<td style='width: 50px; height: 50px; text-align: center'>-2<td>\n",
              "<td style='width: 50px; height: 50px; text-align: center'>-3<td>\n",
              "<td style='width: 50px; height: 50px; text-align: center'>-4<td>\n",
              "        </tr>\n",
              "      \n",
              "        <tr>\n",
              "        <td style='width: 50px; height: 50px; text-align: center'>A<td>\n",
              "        <td style='width: 50px; height: 50px; text-align: center'>-1<td>\n",
              "<td style='width: 50px; height: 50px; text-align: center; background-color: yellow'>-1<td>\n",
              "<td style='width: 50px; height: 50px; text-align: center'>-2<td>\n",
              "<td style='width: 50px; height: 50px; text-align: center'>-3<td>\n",
              "<td style='width: 50px; height: 50px; text-align: center'>-4<td>\n",
              "        </tr>\n",
              "      \n",
              "        <tr>\n",
              "        <td style='width: 50px; height: 50px; text-align: center'>T<td>\n",
              "        <td style='width: 50px; height: 50px; text-align: center'>-2<td>\n",
              "<td style='width: 50px; height: 50px; text-align: center; background-color: yellow'>-2<td>\n",
              "<td style='width: 50px; height: 50px; text-align: center'>-2<td>\n",
              "<td style='width: 50px; height: 50px; text-align: center'>-1<td>\n",
              "<td style='width: 50px; height: 50px; text-align: center'>-2<td>\n",
              "        </tr>\n",
              "      \n",
              "        <tr>\n",
              "        <td style='width: 50px; height: 50px; text-align: center'>G<td>\n",
              "        <td style='width: 50px; height: 50px; text-align: center'>-3<td>\n",
              "<td style='width: 50px; height: 50px; text-align: center'>-1<td>\n",
              "<td style='width: 50px; height: 50px; text-align: center; background-color: yellow'>-1<td>\n",
              "<td style='width: 50px; height: 50px; text-align: center'>-2<td>\n",
              "<td style='width: 50px; height: 50px; text-align: center'>-2<td>\n",
              "        </tr>\n",
              "      \n",
              "        <tr>\n",
              "        <td style='width: 50px; height: 50px; text-align: center'>C<td>\n",
              "        <td style='width: 50px; height: 50px; text-align: center'>-4<td>\n",
              "<td style='width: 50px; height: 50px; text-align: center'>-2<td>\n",
              "<td style='width: 50px; height: 50px; text-align: center'>-2<td>\n",
              "<td style='width: 50px; height: 50px; text-align: center; background-color: yellow'>-2<td>\n",
              "<td style='width: 50px; height: 50px; text-align: center'>-3<td>\n",
              "        </tr>\n",
              "      \n",
              "        <tr>\n",
              "        <td style='width: 50px; height: 50px; text-align: center'>T<td>\n",
              "        <td style='width: 50px; height: 50px; text-align: center'>-5<td>\n",
              "<td style='width: 50px; height: 50px; text-align: center'>-3<td>\n",
              "<td style='width: 50px; height: 50px; text-align: center'>-3<td>\n",
              "<td style='width: 50px; height: 50px; text-align: center'>-1<td>\n",
              "<td style='width: 50px; height: 50px; text-align: center; background-color: yellow'>-1<td>\n",
              "        </tr>\n",
              "      \n",
              "        <tr>\n",
              "        <td style='width: 50px; height: 50px; text-align: center'>A<td>\n",
              "        <td style='width: 50px; height: 50px; text-align: center'>-6<td>\n",
              "<td style='width: 50px; height: 50px; text-align: center'>-4<td>\n",
              "<td style='width: 50px; height: 50px; text-align: center'>-4<td>\n",
              "<td style='width: 50px; height: 50px; text-align: center'>-2<td>\n",
              "<td style='width: 50px; height: 50px; text-align: center; background-color: yellow'>-2<td>\n",
              "        </tr>\n",
              "      \n",
              "  </table>\n",
              "  "
            ],
            "text/plain": [
              "<IPython.core.display.HTML object>"
            ]
          },
          "metadata": {
            "tags": []
          },
          "execution_count": 16
        }
      ]
    },
    {
      "cell_type": "code",
      "metadata": {
        "colab": {
          "base_uri": "https://localhost:8080/",
          "height": 491
        },
        "id": "X9ulZ_EMdjsy",
        "outputId": "00a0b4ae-f18e-41ce-fbe3-706d6f3d2e36"
      },
      "source": [
        "path = reconstruct_path(sequence_1, sequence_2, hirschberg(sequence_1, sequence_2))\r\n",
        "HTML(get_html_string(sequence_1, sequence_2, path, title='Linear Space Algorithm'))"
      ],
      "execution_count": 17,
      "outputs": [
        {
          "output_type": "execute_result",
          "data": {
            "text/html": [
              "\n",
              "  <table style=\"font-size: 15px\">\n",
              "  <h3>Linear Space Algorithm</h3>\n",
              "        <tr>\n",
              "        <td><td>\n",
              "        <td style='width: 50px; height: 50px; text-align: center'>-<td>\n",
              "<td style='width: 50px; height: 50px; text-align: center'>G<td>\n",
              "<td style='width: 50px; height: 50px; text-align: center'>G<td>\n",
              "<td style='width: 50px; height: 50px; text-align: center'>T<td>\n",
              "<td style='width: 50px; height: 50px; text-align: center'>T<td>\n",
              "        </tr>\n",
              "      \n",
              "        <tr>\n",
              "        <td style='width: 50px; height: 50px; text-align: center'>-<td>\n",
              "        <td style='width: 50px; height: 50px; text-align: center; background-color: yellow'>0<td>\n",
              "<td style='width: 50px; height: 50px; text-align: center'>-1<td>\n",
              "<td style='width: 50px; height: 50px; text-align: center'>-2<td>\n",
              "<td style='width: 50px; height: 50px; text-align: center'>-3<td>\n",
              "<td style='width: 50px; height: 50px; text-align: center'>-4<td>\n",
              "        </tr>\n",
              "      \n",
              "        <tr>\n",
              "        <td style='width: 50px; height: 50px; text-align: center'>A<td>\n",
              "        <td style='width: 50px; height: 50px; text-align: center; background-color: yellow'>-1<td>\n",
              "<td style='width: 50px; height: 50px; text-align: center'>-1<td>\n",
              "<td style='width: 50px; height: 50px; text-align: center'>-2<td>\n",
              "<td style='width: 50px; height: 50px; text-align: center'>-3<td>\n",
              "<td style='width: 50px; height: 50px; text-align: center'>-4<td>\n",
              "        </tr>\n",
              "      \n",
              "        <tr>\n",
              "        <td style='width: 50px; height: 50px; text-align: center'>T<td>\n",
              "        <td style='width: 50px; height: 50px; text-align: center; background-color: yellow'>-2<td>\n",
              "<td style='width: 50px; height: 50px; text-align: center'>-2<td>\n",
              "<td style='width: 50px; height: 50px; text-align: center'>-2<td>\n",
              "<td style='width: 50px; height: 50px; text-align: center'>-1<td>\n",
              "<td style='width: 50px; height: 50px; text-align: center'>-2<td>\n",
              "        </tr>\n",
              "      \n",
              "        <tr>\n",
              "        <td style='width: 50px; height: 50px; text-align: center'>G<td>\n",
              "        <td style='width: 50px; height: 50px; text-align: center'>-3<td>\n",
              "<td style='width: 50px; height: 50px; text-align: center; background-color: yellow'>-1<td>\n",
              "<td style='width: 50px; height: 50px; text-align: center'>-1<td>\n",
              "<td style='width: 50px; height: 50px; text-align: center'>-2<td>\n",
              "<td style='width: 50px; height: 50px; text-align: center'>-2<td>\n",
              "        </tr>\n",
              "      \n",
              "        <tr>\n",
              "        <td style='width: 50px; height: 50px; text-align: center'>C<td>\n",
              "        <td style='width: 50px; height: 50px; text-align: center'>-4<td>\n",
              "<td style='width: 50px; height: 50px; text-align: center'>-2<td>\n",
              "<td style='width: 50px; height: 50px; text-align: center; background-color: yellow'>-2<td>\n",
              "<td style='width: 50px; height: 50px; text-align: center'>-2<td>\n",
              "<td style='width: 50px; height: 50px; text-align: center'>-3<td>\n",
              "        </tr>\n",
              "      \n",
              "        <tr>\n",
              "        <td style='width: 50px; height: 50px; text-align: center'>T<td>\n",
              "        <td style='width: 50px; height: 50px; text-align: center'>-5<td>\n",
              "<td style='width: 50px; height: 50px; text-align: center'>-3<td>\n",
              "<td style='width: 50px; height: 50px; text-align: center'>-3<td>\n",
              "<td style='width: 50px; height: 50px; text-align: center; background-color: yellow'>-1<td>\n",
              "<td style='width: 50px; height: 50px; text-align: center'>-1<td>\n",
              "        </tr>\n",
              "      \n",
              "        <tr>\n",
              "        <td style='width: 50px; height: 50px; text-align: center'>A<td>\n",
              "        <td style='width: 50px; height: 50px; text-align: center'>-6<td>\n",
              "<td style='width: 50px; height: 50px; text-align: center'>-4<td>\n",
              "<td style='width: 50px; height: 50px; text-align: center'>-4<td>\n",
              "<td style='width: 50px; height: 50px; text-align: center'>-2<td>\n",
              "<td style='width: 50px; height: 50px; text-align: center; background-color: yellow'>-2<td>\n",
              "        </tr>\n",
              "      \n",
              "  </table>\n",
              "  "
            ],
            "text/plain": [
              "<IPython.core.display.HTML object>"
            ]
          },
          "metadata": {
            "tags": []
          },
          "execution_count": 17
        }
      ]
    },
    {
      "cell_type": "markdown",
      "metadata": {
        "id": "F9P8neirsAN1"
      },
      "source": [
        "# Interactive Demo"
      ]
    },
    {
      "cell_type": "code",
      "metadata": {
        "id": "RA29H25MsVAN"
      },
      "source": [
        "#@title Parameters\n",
        "sequence_1 = \"AGCTA\" #@param {type: \"string\"}\n",
        "sequence_2 = \"ACGAC\" #@param {type: \"string\"}"
      ],
      "execution_count": 18,
      "outputs": []
    },
    {
      "cell_type": "code",
      "metadata": {
        "id": "vdpBizTiNBU2",
        "colab": {
          "base_uri": "https://localhost:8080/",
          "height": 413
        },
        "outputId": "29b9dbf0-ad29-41c7-8c8a-be338c0515bf"
      },
      "source": [
        "path = reconstruct_path(sequence_1, sequence_2, hirschberg(sequence_1, sequence_2))\r\n",
        "HTML(get_html_string(sequence_1, sequence_2, path))"
      ],
      "execution_count": 19,
      "outputs": [
        {
          "output_type": "execute_result",
          "data": {
            "text/html": [
              "\n",
              "  <table style=\"font-size: 15px\">\n",
              "  <h3></h3>\n",
              "        <tr>\n",
              "        <td><td>\n",
              "        <td style='width: 50px; height: 50px; text-align: center'>-<td>\n",
              "<td style='width: 50px; height: 50px; text-align: center'>A<td>\n",
              "<td style='width: 50px; height: 50px; text-align: center'>C<td>\n",
              "<td style='width: 50px; height: 50px; text-align: center'>G<td>\n",
              "<td style='width: 50px; height: 50px; text-align: center'>A<td>\n",
              "<td style='width: 50px; height: 50px; text-align: center'>C<td>\n",
              "        </tr>\n",
              "      \n",
              "        <tr>\n",
              "        <td style='width: 50px; height: 50px; text-align: center'>-<td>\n",
              "        <td style='width: 50px; height: 50px; text-align: center; background-color: yellow'>0<td>\n",
              "<td style='width: 50px; height: 50px; text-align: center'>-1<td>\n",
              "<td style='width: 50px; height: 50px; text-align: center'>-2<td>\n",
              "<td style='width: 50px; height: 50px; text-align: center'>-3<td>\n",
              "<td style='width: 50px; height: 50px; text-align: center'>-4<td>\n",
              "<td style='width: 50px; height: 50px; text-align: center'>-5<td>\n",
              "        </tr>\n",
              "      \n",
              "        <tr>\n",
              "        <td style='width: 50px; height: 50px; text-align: center'>A<td>\n",
              "        <td style='width: 50px; height: 50px; text-align: center'>-1<td>\n",
              "<td style='width: 50px; height: 50px; text-align: center; background-color: yellow'>1<td>\n",
              "<td style='width: 50px; height: 50px; text-align: center'>0<td>\n",
              "<td style='width: 50px; height: 50px; text-align: center'>-1<td>\n",
              "<td style='width: 50px; height: 50px; text-align: center'>-2<td>\n",
              "<td style='width: 50px; height: 50px; text-align: center'>-3<td>\n",
              "        </tr>\n",
              "      \n",
              "        <tr>\n",
              "        <td style='width: 50px; height: 50px; text-align: center'>G<td>\n",
              "        <td style='width: 50px; height: 50px; text-align: center'>-2<td>\n",
              "<td style='width: 50px; height: 50px; text-align: center; background-color: yellow'>0<td>\n",
              "<td style='width: 50px; height: 50px; text-align: center'>0<td>\n",
              "<td style='width: 50px; height: 50px; text-align: center'>1<td>\n",
              "<td style='width: 50px; height: 50px; text-align: center'>0<td>\n",
              "<td style='width: 50px; height: 50px; text-align: center'>-1<td>\n",
              "        </tr>\n",
              "      \n",
              "        <tr>\n",
              "        <td style='width: 50px; height: 50px; text-align: center'>C<td>\n",
              "        <td style='width: 50px; height: 50px; text-align: center'>-3<td>\n",
              "<td style='width: 50px; height: 50px; text-align: center'>-1<td>\n",
              "<td style='width: 50px; height: 50px; text-align: center; background-color: yellow'>1<td>\n",
              "<td style='width: 50px; height: 50px; text-align: center'>0<td>\n",
              "<td style='width: 50px; height: 50px; text-align: center'>0<td>\n",
              "<td style='width: 50px; height: 50px; text-align: center'>1<td>\n",
              "        </tr>\n",
              "      \n",
              "        <tr>\n",
              "        <td style='width: 50px; height: 50px; text-align: center'>T<td>\n",
              "        <td style='width: 50px; height: 50px; text-align: center'>-4<td>\n",
              "<td style='width: 50px; height: 50px; text-align: center'>-2<td>\n",
              "<td style='width: 50px; height: 50px; text-align: center'>0<td>\n",
              "<td style='width: 50px; height: 50px; text-align: center; background-color: yellow'>0<td>\n",
              "<td style='width: 50px; height: 50px; text-align: center'>-1<td>\n",
              "<td style='width: 50px; height: 50px; text-align: center'>0<td>\n",
              "        </tr>\n",
              "      \n",
              "        <tr>\n",
              "        <td style='width: 50px; height: 50px; text-align: center'>A<td>\n",
              "        <td style='width: 50px; height: 50px; text-align: center'>-5<td>\n",
              "<td style='width: 50px; height: 50px; text-align: center'>-3<td>\n",
              "<td style='width: 50px; height: 50px; text-align: center'>-1<td>\n",
              "<td style='width: 50px; height: 50px; text-align: center'>-1<td>\n",
              "<td style='width: 50px; height: 50px; text-align: center; background-color: yellow'>1<td>\n",
              "<td style='width: 50px; height: 50px; text-align: center; background-color: yellow'>0<td>\n",
              "        </tr>\n",
              "      \n",
              "  </table>\n",
              "  "
            ],
            "text/plain": [
              "<IPython.core.display.HTML object>"
            ]
          },
          "metadata": {
            "tags": []
          },
          "execution_count": 19
        }
      ]
    },
    {
      "cell_type": "code",
      "metadata": {
        "id": "A930bXRiuKTB"
      },
      "source": [
        ""
      ],
      "execution_count": null,
      "outputs": []
    }
  ]
}